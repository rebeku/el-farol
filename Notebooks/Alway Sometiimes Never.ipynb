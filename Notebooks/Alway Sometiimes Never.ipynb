{
 "cells": [
  {
   "cell_type": "code",
   "execution_count": 1,
   "id": "805e9202-0055-4d5a-a9ab-20364406ab6b",
   "metadata": {},
   "outputs": [],
   "source": [
    "from matplotlib import pyplot as plt\n",
    "from matplotlib import animation\n",
    "\n",
    "import networkx as nx\n",
    "import numpy as np\n",
    "import pandas as pd\n",
    "import seaborn as sns"
   ]
  },
  {
   "cell_type": "markdown",
   "id": "c4d95496-ac48-42c8-aee8-dd72aeb7c7b1",
   "metadata": {},
   "source": [
    "Compute the Always/Sometimes/Never breakdown on different random graphs"
   ]
  },
  {
   "cell_type": "code",
   "execution_count": 29,
   "id": "79dc1e61-5943-4aff-b7a3-2ad3d444011c",
   "metadata": {},
   "outputs": [],
   "source": [
    "def run_simulation(X, A, n_iter, eps, M, minfriends, minbad):\n",
    "    Xs = [X]\n",
    "\n",
    "    for _ in range(n_iter):\n",
    "        if X.sum() < M:\n",
    "            # go if enough of your friends went last week\n",
    "            # whether or not you went\n",
    "            X = (A.dot(X) > minfriends)\n",
    "        else:\n",
    "            X = (A.dot(X) > minbad)\n",
    "\n",
    "        X += rng.uniform(size=(len(A),1)) < eps\n",
    "        Xs.append(X)\n",
    "\n",
    "    return np.hstack(Xs)\n",
    "\n",
    "\n",
    "def maximal_fixed_point(G):\n",
    "    g = G.copy()\n",
    "    while len(g.nodes) > 0:\n",
    "        k = g.degree()\n",
    "        to_keep = [node[0] for node in k if node[1] > minfriends]\n",
    "        if len(to_keep) == len(g.nodes):\n",
    "            return g\n",
    "        g = g.subgraph(to_keep)\n",
    "\n",
    "    return g\n",
    "\n",
    "\n",
    "def run_simulation_batch(A, n_iter, eps, M, minfriends, minbad, batch_size, rng):\n",
    "    Xnps = []\n",
    "\n",
    "    for i in range(batch_size):\n",
    "        X = rng.uniform(size=(len(A),1)) < 0.3\n",
    "        Xnps.append(\n",
    "            run_simulation(X, A, n_iter, eps, M, minfriends, minbad))\n",
    "        print(f\"Ran simulation {i}\")\n",
    "\n",
    "    # count the number of times each node goes to the bar\n",
    "    # in each batch\n",
    "    # skip first 50 rounds to give time to settle\n",
    "    attendance = [np.where(Xnp[:,50:]) for Xnp in Xnps]\n",
    "    ppl = [pd.Series(a[0]) for a in attendance]\n",
    "\n",
    "    cnts = pd.DataFrame(index=range(len(A)))\n",
    "    for i in range(batch_size):\n",
    "        cnts[i] = ppl[i].value_counts()\n",
    "\n",
    "    always = (cnts==n_iter - 49).mean(axis=1)\n",
    "    sometimes = (cnts < n_iter - 49).mean(axis=1)\n",
    "    never = cnts.isna().mean(axis=1)\n",
    "\n",
    "    cnts[\"Always\"] = always\n",
    "    cnts[\"Sometimes\"] = sometimes\n",
    "    cnts[\"Never\"] = never\n",
    "\n",
    "    g = maximal_fixed_point(\n",
    "        nx.convert_matrix.from_numpy_array(A)\n",
    "    )\n",
    "\n",
    "    cnts[\"maximal_fixed_point\"] = pd.Series(range(len(A))).apply(\n",
    "        lambda x: x in g.nodes)\n",
    "\n",
    "    return cnts"
   ]
  },
  {
   "cell_type": "code",
   "execution_count": 99,
   "id": "57e67327-e82c-4ece-9ed3-26380a17d8be",
   "metadata": {},
   "outputs": [
    {
     "data": {
      "text/plain": [
       "10.013333333333334"
      ]
     },
     "execution_count": 99,
     "metadata": {},
     "output_type": "execute_result"
    }
   ],
   "source": [
    "def truncated_power_law(gamma, k_0, n, rng, size=None):\n",
    "    \"\"\"\n",
    "    Generate a sample of size *size* from a power law distribution\n",
    "    with mininmum *k_0*, maximum *n*, and power *gamma*\n",
    "    \"\"\"\n",
    "    k_0=np.float64(k_0)\n",
    "    gamma=np.float64(gamma)\n",
    "    n=np.float64(n)\n",
    "    \n",
    "    if size:\n",
    "        U = rng.uniform(size=size)\n",
    "    else:\n",
    "        U = rng.uniform()\n",
    "        \n",
    "    return (\n",
    "        (k_0**(1-gamma) - \n",
    "             ( k_0**(1-gamma) - n**(1-gamma) ) * U \n",
    "        )**(1/(1-gamma))\n",
    "    )\n",
    "\n",
    "def generate_chung_lu(k, rng):\n",
    "    n = len(k)\n",
    "\n",
    "    k_mean = k.mean()\n",
    "    # k_mean times is twice the expected number of edges\n",
    "    # this will be the denominator of all edge probabilities\n",
    "    m2 = k_mean * n\n",
    "\n",
    "    # initialize adjacency matrix\n",
    "    A = np.zeros((n,n),dtype=int)\n",
    "    choices = rng.random(n*(n-1) // 2)\n",
    "    choice_i = 0\n",
    "    \n",
    "    for i in range(n):\n",
    "        for j in range(i+1,n):\n",
    "            # no self loops\n",
    "            if i == j:\n",
    "                continue\n",
    "                \n",
    "            # compute probability of edge\n",
    "            p = min(\n",
    "                (k[i] * k[j] / m2,\n",
    "                1))\n",
    "            \n",
    "            # generate edge\n",
    "            if choices[choice_i] < p:\n",
    "                A[i,j] = 1\n",
    "                A[j,i] = 1\n",
    "            \n",
    "            choice_i += 1\n",
    "                \n",
    "    return A\n",
    "\n",
    "\n",
    "\n",
    "\n",
    "rng = np.random.default_rng(2357111)\n",
    "\n",
    "gamma = 2\n",
    "k_0 = 3\n",
    "n = 100\n",
    "size=300\n",
    "n_iter = 1000\n",
    "eps = 0\n",
    "M = 60\n",
    "minfriends = 2\n",
    "minbad = 5\n",
    "batch_size = 50\n",
    "\n",
    "# generate configuration model\n",
    "k = truncated_power_law(gamma, k_0, n, rng, size=size).astype(int)\n",
    "k.sort()\n",
    "A = generate_chung_lu(k, rng)\n",
    "\n",
    "cnts_cm = run_simulation_batch(A, n_iter, eps, M, minfriends, minbad, batch_size, rng)"
   ]
  },
  {
   "cell_type": "code",
   "execution_count": null,
   "id": "61f80065-a37e-4402-891a-60160c2cc951",
   "metadata": {},
   "outputs": [],
   "source": []
  },
  {
   "cell_type": "code",
   "execution_count": 101,
   "id": "61381d73-ba9e-4c67-89d8-58e51f16b775",
   "metadata": {},
   "outputs": [
    {
     "name": "stdout",
     "output_type": "stream",
     "text": [
      "Ran simulation 0\n",
      "Ran simulation 1\n",
      "Ran simulation 2\n",
      "Ran simulation 3\n",
      "Ran simulation 4\n",
      "Ran simulation 5\n",
      "Ran simulation 6\n",
      "Ran simulation 7\n",
      "Ran simulation 8\n",
      "Ran simulation 9\n",
      "Ran simulation 10\n",
      "Ran simulation 11\n",
      "Ran simulation 12\n",
      "Ran simulation 13\n",
      "Ran simulation 14\n",
      "Ran simulation 15\n",
      "Ran simulation 16\n",
      "Ran simulation 17\n",
      "Ran simulation 18\n",
      "Ran simulation 19\n",
      "Ran simulation 20\n",
      "Ran simulation 21\n",
      "Ran simulation 22\n",
      "Ran simulation 23\n",
      "Ran simulation 24\n",
      "Ran simulation 25\n",
      "Ran simulation 26\n",
      "Ran simulation 27\n",
      "Ran simulation 28\n",
      "Ran simulation 29\n",
      "Ran simulation 30\n",
      "Ran simulation 31\n",
      "Ran simulation 32\n",
      "Ran simulation 33\n",
      "Ran simulation 34\n",
      "Ran simulation 35\n",
      "Ran simulation 36\n",
      "Ran simulation 37\n",
      "Ran simulation 38\n",
      "Ran simulation 39\n",
      "Ran simulation 40\n",
      "Ran simulation 41\n",
      "Ran simulation 42\n",
      "Ran simulation 43\n",
      "Ran simulation 44\n",
      "Ran simulation 45\n",
      "Ran simulation 46\n",
      "Ran simulation 47\n",
      "Ran simulation 48\n",
      "Ran simulation 49\n"
     ]
    }
   ],
   "source": [
    "k_bar = A.sum() / len(A)\n",
    "n = len(A)\n",
    "p = k_bar / n\n",
    "\n",
    "G = nx.gnp_random_graph(n, p)\n",
    "A = nx.convert_matrix.to_numpy_array(G)\n",
    "\n",
    "cnts_gnp = run_simulation_batch(A, n_iter, eps, M, minfriends, minbad, batch_size, rng)"
   ]
  },
  {
   "cell_type": "code",
   "execution_count": 103,
   "id": "7dccd25f-7e3c-4fb4-b6f6-d5928b7c0126",
   "metadata": {},
   "outputs": [
    {
     "data": {
      "text/plain": [
       "15.74"
      ]
     },
     "execution_count": 103,
     "metadata": {},
     "output_type": "execute_result"
    }
   ],
   "source": [
    "cnts_gnp.Always.sum()"
   ]
  },
  {
   "cell_type": "code",
   "execution_count": 104,
   "id": "2b147629-c823-47b7-8d60-bd10da35fc3e",
   "metadata": {},
   "outputs": [
    {
     "data": {
      "text/plain": [
       "64.74000000000001"
      ]
     },
     "execution_count": 104,
     "metadata": {},
     "output_type": "execute_result"
    }
   ],
   "source": [
    "cnts_gnp.Sometimes.sum()"
   ]
  },
  {
   "cell_type": "code",
   "execution_count": 105,
   "id": "c0f520ed-77eb-491a-97f6-940c60673a54",
   "metadata": {},
   "outputs": [
    {
     "data": {
      "text/plain": [
       "219.52"
      ]
     },
     "execution_count": 105,
     "metadata": {},
     "output_type": "execute_result"
    }
   ],
   "source": [
    "cnts_gnp.Never.sum()"
   ]
  },
  {
   "cell_type": "code",
   "execution_count": 108,
   "id": "038a1908-f87c-45f4-ab08-f69e423a98df",
   "metadata": {},
   "outputs": [
    {
     "data": {
      "text/plain": [
       "300"
      ]
     },
     "execution_count": 108,
     "metadata": {},
     "output_type": "execute_result"
    }
   ],
   "source": [
    "cnts_gnp.maximal_fixed_point.sum()"
   ]
  },
  {
   "cell_type": "code",
   "execution_count": 140,
   "id": "e92c5a39-c5fd-4b82-ab0a-c4bcce2eeee4",
   "metadata": {},
   "outputs": [
    {
     "name": "stdout",
     "output_type": "stream",
     "text": [
      "Ran simulation 0\n",
      "Ran simulation 1\n",
      "Ran simulation 2\n",
      "Ran simulation 3\n",
      "Ran simulation 4\n",
      "Ran simulation 5\n",
      "Ran simulation 6\n",
      "Ran simulation 7\n",
      "Ran simulation 8\n",
      "Ran simulation 9\n",
      "Ran simulation 10\n",
      "Ran simulation 11\n",
      "Ran simulation 12\n",
      "Ran simulation 13\n",
      "Ran simulation 14\n",
      "Ran simulation 15\n",
      "Ran simulation 16\n",
      "Ran simulation 17\n",
      "Ran simulation 18\n",
      "Ran simulation 19\n",
      "Ran simulation 20\n",
      "Ran simulation 21\n",
      "Ran simulation 22\n",
      "Ran simulation 23\n",
      "Ran simulation 24\n",
      "Ran simulation 25\n",
      "Ran simulation 26\n",
      "Ran simulation 27\n",
      "Ran simulation 28\n",
      "Ran simulation 29\n",
      "Ran simulation 30\n",
      "Ran simulation 31\n",
      "Ran simulation 32\n",
      "Ran simulation 33\n",
      "Ran simulation 34\n",
      "Ran simulation 35\n",
      "Ran simulation 36\n",
      "Ran simulation 37\n",
      "Ran simulation 38\n",
      "Ran simulation 39\n",
      "Ran simulation 40\n",
      "Ran simulation 41\n",
      "Ran simulation 42\n",
      "Ran simulation 43\n",
      "Ran simulation 44\n",
      "Ran simulation 45\n",
      "Ran simulation 46\n",
      "Ran simulation 47\n",
      "Ran simulation 48\n",
      "Ran simulation 49\n"
     ]
    }
   ],
   "source": [
    "sizes = [100, 100, 100]\n",
    "probs = [[0.09, 0.01, 0.01], [0.01, 0.09, 0.01], [0.01, 0.01, 0.09]]\n",
    "G = nx.stochastic_block_model(sizes, probs, seed=3089277)\n",
    "A = nx.convert_matrix.to_numpy_matrix(G)\n",
    "\n",
    "cnts_sbm = run_simulation_batch(A, n_iter, eps, M, minfriends, minbad, batch_size, rng)"
   ]
  },
  {
   "cell_type": "code",
   "execution_count": 142,
   "id": "64be4fbf-7c37-4f8d-8342-7f8dc7301015",
   "metadata": {},
   "outputs": [
    {
     "data": {
      "text/plain": [
       "53.78"
      ]
     },
     "execution_count": 142,
     "metadata": {},
     "output_type": "execute_result"
    }
   ],
   "source": [
    "cnts_sbm.Always.sum()"
   ]
  },
  {
   "cell_type": "code",
   "execution_count": 143,
   "id": "b66eb596-916b-4778-8e6b-751a93428512",
   "metadata": {},
   "outputs": [
    {
     "data": {
      "text/plain": [
       "9.22"
      ]
     },
     "execution_count": 143,
     "metadata": {},
     "output_type": "execute_result"
    }
   ],
   "source": [
    "cnts_sbm.Sometimes.sum()"
   ]
  },
  {
   "cell_type": "code",
   "execution_count": 144,
   "id": "4dbcf63a-57a0-449b-9228-12bce0a295da",
   "metadata": {},
   "outputs": [
    {
     "data": {
      "text/plain": [
       "237.0"
      ]
     },
     "execution_count": 144,
     "metadata": {},
     "output_type": "execute_result"
    }
   ],
   "source": [
    "cnts_sbm.Never.sum()"
   ]
  },
  {
   "cell_type": "code",
   "execution_count": 145,
   "id": "872dbc78-bf5f-4680-a1b1-dbf3691b7be9",
   "metadata": {},
   "outputs": [
    {
     "data": {
      "text/plain": [
       "13.799999999999999"
      ]
     },
     "execution_count": 145,
     "metadata": {},
     "output_type": "execute_result"
    }
   ],
   "source": [
    "cnts_sbm.iloc[:100].Always.sum()"
   ]
  },
  {
   "cell_type": "code",
   "execution_count": 146,
   "id": "c47e265a-64e7-49c1-8d3c-e519eb4b7aa5",
   "metadata": {},
   "outputs": [
    {
     "data": {
      "text/plain": [
       "22.0"
      ]
     },
     "execution_count": 146,
     "metadata": {},
     "output_type": "execute_result"
    }
   ],
   "source": [
    "cnts_sbm.iloc[100:200].Always.sum()"
   ]
  },
  {
   "cell_type": "code",
   "execution_count": 147,
   "id": "8ba6fa2d-e529-4daa-ae1b-461b64a310f0",
   "metadata": {},
   "outputs": [
    {
     "data": {
      "text/plain": [
       "17.980000000000004"
      ]
     },
     "execution_count": 147,
     "metadata": {},
     "output_type": "execute_result"
    }
   ],
   "source": [
    "cnts_sbm.iloc[200:300].Always.sum()"
   ]
  },
  {
   "cell_type": "code",
   "execution_count": 149,
   "id": "21920206-b5e4-404d-9778-abf69255b4ea",
   "metadata": {},
   "outputs": [
    {
     "data": {
      "text/plain": [
       "300"
      ]
     },
     "execution_count": 149,
     "metadata": {},
     "output_type": "execute_result"
    }
   ],
   "source": [
    "cnts_sbm.maximal_fixed_point.sum()"
   ]
  },
  {
   "cell_type": "code",
   "execution_count": 160,
   "id": "a8b6c367-50d5-406b-ba9c-48214fad4b5c",
   "metadata": {},
   "outputs": [
    {
     "data": {
      "image/png": "[encoded data removed]",
      "text/plain": [
       "<Figure size 432x288 with 1 Axes>"
      ]
     },
     "metadata": {
      "needs_background": "light"
     },
     "output_type": "display_data"
    }
   ],
   "source": [
    "# data to plot\n",
    "always = (cnts_gnp.Always.sum(), cnts_cm.Always.sum(), cnts_sbm.Always.sum())\n",
    "sometimes = (cnts_gnp.Sometimes.sum(), cnts_cm.Sometimes.sum(), cnts_sbm.Sometimes.sum())\n",
    "never = (cnts_gnp.Never.sum(), cnts_cm.Never.sum(), cnts_sbm.Never.sum())\n",
    "\n",
    "# create plot\n",
    "# fig, ax = plt.subplots()\n",
    "index = np.arange(3)\n",
    "bar_width = 0.3\n",
    "opacity = 0.8\n",
    "\n",
    "rects1 = plt.bar(index, always, bar_width,\n",
    "alpha=opacity,\n",
    "color='tab:green',\n",
    "label='Always')\n",
    "\n",
    "rects2 = plt.bar(index + bar_width, sometimes, bar_width,\n",
    "alpha=opacity,\n",
    "color='tab:orange',\n",
    "label='Sometimes')\n",
    "\n",
    "rects2 = plt.bar(index + 2*bar_width, never, bar_width,\n",
    "alpha=opacity,\n",
    "color='tab:red',\n",
    "label='Never')\n",
    "\n",
    "plt.xlabel('Random Graph')\n",
    "plt.ylabel('Attendance Pattern')\n",
    "plt.title('Attendance Patterns on Random Graph Models')\n",
    "plt.xticks(index + 2*bar_width, ('G(np)', 'Configuration\\nModel', 'SBM'))\n",
    "plt.legend()\n",
    "\n",
    "plt.tight_layout()\n",
    "plt.show()"
   ]
  },
  {
   "cell_type": "code",
   "execution_count": 175,
   "id": "e87302f3-31da-4088-b405-47ed56e11ed5",
   "metadata": {},
   "outputs": [
    {
     "data": {
      "image/png": "[encoded data removed]",
      "text/plain": [
       "<Figure size 432x288 with 1 Axes>"
      ]
     },
     "metadata": {
      "needs_background": "light"
     },
     "output_type": "display_data"
    }
   ],
   "source": [
    "# data to plot\n",
    "always = ((cnts_gnp.Always > 0).sum(), (cnts_cm.Always > 0).sum(), (cnts_sbm.Always > 0).sum())\n",
    "sometimes = ((cnts_gnp.Sometimes > 0).sum(), (cnts_cm.Sometimes > 0).sum(), (cnts_sbm.Sometimes > 0).sum())\n",
    "never = ((cnts_gnp.Never > 0).sum(), (cnts_cm.Never > 0).sum(), (cnts_sbm.Never > 0).sum())\n",
    "\n",
    "# create plot\n",
    "# fig, ax = plt.subplots()\n",
    "index = np.arange(3)\n",
    "bar_width = 0.3\n",
    "opacity = 0.8\n",
    "\n",
    "rects1 = plt.bar(index, always, bar_width,\n",
    "alpha=opacity,\n",
    "color='tab:green',\n",
    "label='Always')\n",
    "\n",
    "rects2 = plt.bar(index + bar_width, sometimes, bar_width,\n",
    "alpha=opacity,\n",
    "color='tab:orange',\n",
    "label='Sometimes')\n",
    "\n",
    "rects2 = plt.bar(index + 2*bar_width, never, bar_width,\n",
    "alpha=opacity,\n",
    "color='tab:red',\n",
    "label='Never')\n",
    "\n",
    "plt.xlabel('Random Graph')\n",
    "plt.ylabel('Node Count')\n",
    "plt.title('Attendance Patterns on Random Graph Models')\n",
    "plt.xticks(index + 2*bar_width, ('Erdos\\nRenyi', 'Configuration\\nModel', 'SBM'))\n",
    "plt.legend()\n",
    "\n",
    "plt.tight_layout()\n",
    "plt.show()"
   ]
  },
  {
   "cell_type": "code",
   "execution_count": 167,
   "id": "7b433972-05fb-4737-8739-57d17c3ac061",
   "metadata": {},
   "outputs": [
    {
     "data": {
      "text/plain": [
       "96"
      ]
     },
     "execution_count": 167,
     "metadata": {},
     "output_type": "execute_result"
    }
   ],
   "source": [
    "def not_sometimes(cnts):\n",
    "    maska = cnts.Always > 0\n",
    "    maskn = cnts.Never > 0\n",
    "    masks = cnts.Sometimes == 0\n",
    "    \n",
    "    return (maska & maskn & masks).sum()\n",
    "\n",
    "not_sometimes(cnts_sbm)"
   ]
  },
  {
   "cell_type": "code",
   "execution_count": 168,
   "id": "85042695-d1fb-4e3b-b89f-9d7b89381bc1",
   "metadata": {},
   "outputs": [
    {
     "data": {
      "text/plain": [
       "0"
      ]
     },
     "execution_count": 168,
     "metadata": {},
     "output_type": "execute_result"
    }
   ],
   "source": [
    "not_sometimes(cnts_gnp)"
   ]
  },
  {
   "cell_type": "code",
   "execution_count": 169,
   "id": "7f8b5b7c-628c-472a-bba4-e34216391e5c",
   "metadata": {},
   "outputs": [
    {
     "data": {
      "text/plain": [
       "0"
      ]
     },
     "execution_count": 169,
     "metadata": {},
     "output_type": "execute_result"
    }
   ],
   "source": [
    "not_sometimes(cnts_cm)"
   ]
  }
 ],
 "metadata": {
  "kernelspec": {
   "display_name": "Python 3",
   "language": "python",
   "name": "python3"
  },
  "language_info": {
   "codemirror_mode": {
    "name": "ipython",
    "version": 3
   },
   "file_extension": ".py",
   "mimetype": "text/x-python",
   "name": "python",
   "nbconvert_exporter": "python",
   "pygments_lexer": "ipython3",
   "version": "3.9.5"
  }
 },
 "nbformat": 4,
 "nbformat_minor": 5
}
