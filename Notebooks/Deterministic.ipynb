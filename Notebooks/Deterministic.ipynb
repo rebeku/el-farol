{
 "cells": [
  {
   "cell_type": "code",
   "execution_count": 1,
   "id": "becee448-d941-4623-9b75-739667cfb5f6",
   "metadata": {},
   "outputs": [],
   "source": [
    "from matplotlib import pyplot as plt\n",
    "from matplotlib import animation\n",
    "\n",
    "import networkx as nx\n",
    "import numpy as np\n",
    "import numpy.ma as ma\n",
    "import pandas as pd"
   ]
  },
  {
   "cell_type": "code",
   "execution_count": 70,
   "id": "00129f3c-88a2-43ef-ae48-f792c55d43c9",
   "metadata": {},
   "outputs": [
    {
     "data": {
      "text/plain": [
       "<matplotlib.collections.LineCollection at 0x1199f40d0>"
      ]
     },
     "execution_count": 70,
     "metadata": {},
     "output_type": "execute_result"
    },
    {
     "data": {
      "image/png": "[encoded data removed]",
      "text/plain": [
       "<Figure size 432x288 with 1 Axes>"
      ]
     },
     "metadata": {},
     "output_type": "display_data"
    }
   ],
   "source": [
    "sizes = [20, 50, 30]\n",
    "probs = [[0.25,0.01, 0.01], [0.01, 0.1, 0.01], [0.01, 0.01, 1/6]]\n",
    "\n",
    "# track the boundaries between communities\n",
    "# instead of the size\n",
    "transitions = np.array(sizes)\n",
    "\n",
    "for i in range(len(transitions)-1):\n",
    "    transitions[i + 1] = transitions[i + 1] + transitions[i]\n",
    "    \n",
    "\n",
    "G = nx.stochastic_block_model(sizes, probs, seed=31)\n",
    "A = nx.convert_matrix.to_numpy_matrix(G)\n",
    "\n",
    "pos = nx.spring_layout(G, seed=3113794652)\n",
    "nx.draw_networkx_nodes(G, pos, nodelist=range(transitions[0]), node_color=\"tab:red\")\n",
    "nx.draw_networkx_nodes(G, pos, nodelist=range(transitions[0], transitions[1]), node_color=\"tab:blue\")\n",
    "nx.draw_networkx_nodes(G, pos, nodelist=range(transitions[1], 100), node_color=\"tab:orange\")\n",
    "nx.draw_networkx_edges(G, pos)"
   ]
  },
  {
   "cell_type": "markdown",
   "id": "77a29878-f2e5-4b9e-9792-e8a810d9d0cc",
   "metadata": {},
   "source": [
    "# Run the simulation without the small random restart probability.\n",
    "Does the deterministic scenario settle into periodic behavior"
   ]
  },
  {
   "cell_type": "code",
   "execution_count": 12,
   "id": "7cfefc35-ad08-4187-87ff-5db701da10c2",
   "metadata": {},
   "outputs": [],
   "source": [
    "rng = np.random.default_rng(11235813)\n",
    "\n",
    "def run_sim(n_iter, X, eps, M, minfriends, minbad):\n",
    "    Xs = [X]\n",
    "    for _ in range(n_iter):\n",
    "        if X.sum() < M:\n",
    "            # go if enough of your friends went last week\n",
    "            # whether or not you went\n",
    "            X = (A.dot(X) > minfriends)\n",
    "        else:\n",
    "            X = (A.dot(X) > minbad)\n",
    "\n",
    "        X += rng.uniform(size=(100,1)) < eps\n",
    "        Xs.append(X)\n",
    "    return np.hstack(Xs)"
   ]
  },
  {
   "cell_type": "code",
   "execution_count": 14,
   "id": "b181ba6a-138e-42c2-9aac-e509f0ab38ad",
   "metadata": {},
   "outputs": [
    {
     "name": "stdout",
     "output_type": "stream",
     "text": [
      "Ran simulation 0\n",
      "Ran simulation 1\n",
      "Ran simulation 2\n",
      "Ran simulation 3\n",
      "Ran simulation 4\n",
      "Ran simulation 5\n",
      "Ran simulation 6\n",
      "Ran simulation 7\n",
      "Ran simulation 8\n",
      "Ran simulation 9\n",
      "Ran simulation 10\n",
      "Ran simulation 11\n",
      "Ran simulation 12\n",
      "Ran simulation 13\n",
      "Ran simulation 14\n",
      "Ran simulation 15\n",
      "Ran simulation 16\n",
      "Ran simulation 17\n",
      "Ran simulation 18\n",
      "Ran simulation 19\n",
      "Ran simulation 20\n",
      "Ran simulation 21\n",
      "Ran simulation 22\n",
      "Ran simulation 23\n",
      "Ran simulation 24\n",
      "Ran simulation 25\n",
      "Ran simulation 26\n",
      "Ran simulation 27\n",
      "Ran simulation 28\n",
      "Ran simulation 29\n"
     ]
    }
   ],
   "source": [
    "rng = np.random.default_rng(11235813)\n",
    "\n",
    "eps = 0\n",
    "M = 60\n",
    "minfriends = 2\n",
    "minbad = 5\n",
    "n_iter = 1000\n",
    "\n",
    "Xnps = []\n",
    "for i in range(30):\n",
    "    X = rng.uniform(size=(100,1)) < 0.3\n",
    "    Xnps.append(\n",
    "        run_sim(n_iter, X, eps, M, minfriends, minbad))\n",
    "    print(f\"Ran simulation {i}\")"
   ]
  },
  {
   "cell_type": "code",
   "execution_count": 30,
   "id": "91b4c7c1-afb0-4fbd-98ef-3a7d88d3d3f2",
   "metadata": {},
   "outputs": [
    {
     "data": {
      "text/html": [
       "<div>\n",
       "<style scoped>\n",
       "    .dataframe tbody tr th:only-of-type {\n",
       "        vertical-align: middle;\n",
       "    }\n",
       "\n",
       "    .dataframe tbody tr th {\n",
       "        vertical-align: top;\n",
       "    }\n",
       "\n",
       "    .dataframe thead th {\n",
       "        text-align: right;\n",
       "    }\n",
       "</style>\n",
       "<table border=\"1\" class=\"dataframe\">\n",
       "  <thead>\n",
       "    <tr style=\"text-align: right;\">\n",
       "      <th></th>\n",
       "      <th>0</th>\n",
       "      <th>1</th>\n",
       "      <th>2</th>\n",
       "      <th>3</th>\n",
       "      <th>4</th>\n",
       "      <th>5</th>\n",
       "      <th>6</th>\n",
       "      <th>7</th>\n",
       "      <th>8</th>\n",
       "      <th>9</th>\n",
       "      <th>...</th>\n",
       "      <th>20</th>\n",
       "      <th>21</th>\n",
       "      <th>22</th>\n",
       "      <th>23</th>\n",
       "      <th>24</th>\n",
       "      <th>25</th>\n",
       "      <th>26</th>\n",
       "      <th>27</th>\n",
       "      <th>28</th>\n",
       "      <th>29</th>\n",
       "    </tr>\n",
       "  </thead>\n",
       "  <tbody>\n",
       "    <tr>\n",
       "      <th>0</th>\n",
       "      <td>951.0</td>\n",
       "      <td>951.0</td>\n",
       "      <td>951.0</td>\n",
       "      <td>951.0</td>\n",
       "      <td>951.0</td>\n",
       "      <td>951.0</td>\n",
       "      <td>951.0</td>\n",
       "      <td>951.0</td>\n",
       "      <td>951.0</td>\n",
       "      <td>951.0</td>\n",
       "      <td>...</td>\n",
       "      <td>NaN</td>\n",
       "      <td>951.0</td>\n",
       "      <td>NaN</td>\n",
       "      <td>951.0</td>\n",
       "      <td>951.0</td>\n",
       "      <td>951.0</td>\n",
       "      <td>NaN</td>\n",
       "      <td>NaN</td>\n",
       "      <td>951.0</td>\n",
       "      <td>NaN</td>\n",
       "    </tr>\n",
       "    <tr>\n",
       "      <th>1</th>\n",
       "      <td>951.0</td>\n",
       "      <td>951.0</td>\n",
       "      <td>951.0</td>\n",
       "      <td>951.0</td>\n",
       "      <td>951.0</td>\n",
       "      <td>951.0</td>\n",
       "      <td>951.0</td>\n",
       "      <td>951.0</td>\n",
       "      <td>951.0</td>\n",
       "      <td>951.0</td>\n",
       "      <td>...</td>\n",
       "      <td>NaN</td>\n",
       "      <td>951.0</td>\n",
       "      <td>NaN</td>\n",
       "      <td>951.0</td>\n",
       "      <td>951.0</td>\n",
       "      <td>951.0</td>\n",
       "      <td>NaN</td>\n",
       "      <td>NaN</td>\n",
       "      <td>951.0</td>\n",
       "      <td>NaN</td>\n",
       "    </tr>\n",
       "    <tr>\n",
       "      <th>2</th>\n",
       "      <td>951.0</td>\n",
       "      <td>951.0</td>\n",
       "      <td>951.0</td>\n",
       "      <td>951.0</td>\n",
       "      <td>951.0</td>\n",
       "      <td>951.0</td>\n",
       "      <td>951.0</td>\n",
       "      <td>951.0</td>\n",
       "      <td>951.0</td>\n",
       "      <td>951.0</td>\n",
       "      <td>...</td>\n",
       "      <td>NaN</td>\n",
       "      <td>951.0</td>\n",
       "      <td>NaN</td>\n",
       "      <td>951.0</td>\n",
       "      <td>951.0</td>\n",
       "      <td>951.0</td>\n",
       "      <td>NaN</td>\n",
       "      <td>NaN</td>\n",
       "      <td>951.0</td>\n",
       "      <td>NaN</td>\n",
       "    </tr>\n",
       "    <tr>\n",
       "      <th>3</th>\n",
       "      <td>951.0</td>\n",
       "      <td>951.0</td>\n",
       "      <td>951.0</td>\n",
       "      <td>951.0</td>\n",
       "      <td>951.0</td>\n",
       "      <td>951.0</td>\n",
       "      <td>951.0</td>\n",
       "      <td>951.0</td>\n",
       "      <td>951.0</td>\n",
       "      <td>951.0</td>\n",
       "      <td>...</td>\n",
       "      <td>NaN</td>\n",
       "      <td>951.0</td>\n",
       "      <td>476.0</td>\n",
       "      <td>951.0</td>\n",
       "      <td>951.0</td>\n",
       "      <td>951.0</td>\n",
       "      <td>NaN</td>\n",
       "      <td>NaN</td>\n",
       "      <td>951.0</td>\n",
       "      <td>NaN</td>\n",
       "    </tr>\n",
       "    <tr>\n",
       "      <th>4</th>\n",
       "      <td>951.0</td>\n",
       "      <td>951.0</td>\n",
       "      <td>951.0</td>\n",
       "      <td>951.0</td>\n",
       "      <td>951.0</td>\n",
       "      <td>951.0</td>\n",
       "      <td>951.0</td>\n",
       "      <td>951.0</td>\n",
       "      <td>951.0</td>\n",
       "      <td>951.0</td>\n",
       "      <td>...</td>\n",
       "      <td>NaN</td>\n",
       "      <td>951.0</td>\n",
       "      <td>476.0</td>\n",
       "      <td>951.0</td>\n",
       "      <td>951.0</td>\n",
       "      <td>951.0</td>\n",
       "      <td>NaN</td>\n",
       "      <td>NaN</td>\n",
       "      <td>951.0</td>\n",
       "      <td>NaN</td>\n",
       "    </tr>\n",
       "    <tr>\n",
       "      <th>...</th>\n",
       "      <td>...</td>\n",
       "      <td>...</td>\n",
       "      <td>...</td>\n",
       "      <td>...</td>\n",
       "      <td>...</td>\n",
       "      <td>...</td>\n",
       "      <td>...</td>\n",
       "      <td>...</td>\n",
       "      <td>...</td>\n",
       "      <td>...</td>\n",
       "      <td>...</td>\n",
       "      <td>...</td>\n",
       "      <td>...</td>\n",
       "      <td>...</td>\n",
       "      <td>...</td>\n",
       "      <td>...</td>\n",
       "      <td>...</td>\n",
       "      <td>...</td>\n",
       "      <td>...</td>\n",
       "      <td>...</td>\n",
       "      <td>...</td>\n",
       "    </tr>\n",
       "    <tr>\n",
       "      <th>95</th>\n",
       "      <td>NaN</td>\n",
       "      <td>NaN</td>\n",
       "      <td>951.0</td>\n",
       "      <td>NaN</td>\n",
       "      <td>NaN</td>\n",
       "      <td>951.0</td>\n",
       "      <td>951.0</td>\n",
       "      <td>NaN</td>\n",
       "      <td>951.0</td>\n",
       "      <td>476.0</td>\n",
       "      <td>...</td>\n",
       "      <td>951.0</td>\n",
       "      <td>NaN</td>\n",
       "      <td>NaN</td>\n",
       "      <td>NaN</td>\n",
       "      <td>NaN</td>\n",
       "      <td>NaN</td>\n",
       "      <td>NaN</td>\n",
       "      <td>NaN</td>\n",
       "      <td>NaN</td>\n",
       "      <td>NaN</td>\n",
       "    </tr>\n",
       "    <tr>\n",
       "      <th>96</th>\n",
       "      <td>NaN</td>\n",
       "      <td>NaN</td>\n",
       "      <td>NaN</td>\n",
       "      <td>NaN</td>\n",
       "      <td>NaN</td>\n",
       "      <td>NaN</td>\n",
       "      <td>NaN</td>\n",
       "      <td>NaN</td>\n",
       "      <td>NaN</td>\n",
       "      <td>NaN</td>\n",
       "      <td>...</td>\n",
       "      <td>475.0</td>\n",
       "      <td>NaN</td>\n",
       "      <td>NaN</td>\n",
       "      <td>NaN</td>\n",
       "      <td>NaN</td>\n",
       "      <td>NaN</td>\n",
       "      <td>NaN</td>\n",
       "      <td>NaN</td>\n",
       "      <td>NaN</td>\n",
       "      <td>NaN</td>\n",
       "    </tr>\n",
       "    <tr>\n",
       "      <th>97</th>\n",
       "      <td>NaN</td>\n",
       "      <td>NaN</td>\n",
       "      <td>NaN</td>\n",
       "      <td>NaN</td>\n",
       "      <td>NaN</td>\n",
       "      <td>NaN</td>\n",
       "      <td>NaN</td>\n",
       "      <td>NaN</td>\n",
       "      <td>NaN</td>\n",
       "      <td>NaN</td>\n",
       "      <td>...</td>\n",
       "      <td>NaN</td>\n",
       "      <td>NaN</td>\n",
       "      <td>NaN</td>\n",
       "      <td>NaN</td>\n",
       "      <td>NaN</td>\n",
       "      <td>NaN</td>\n",
       "      <td>NaN</td>\n",
       "      <td>NaN</td>\n",
       "      <td>NaN</td>\n",
       "      <td>NaN</td>\n",
       "    </tr>\n",
       "    <tr>\n",
       "      <th>98</th>\n",
       "      <td>NaN</td>\n",
       "      <td>NaN</td>\n",
       "      <td>NaN</td>\n",
       "      <td>NaN</td>\n",
       "      <td>NaN</td>\n",
       "      <td>NaN</td>\n",
       "      <td>476.0</td>\n",
       "      <td>NaN</td>\n",
       "      <td>NaN</td>\n",
       "      <td>NaN</td>\n",
       "      <td>...</td>\n",
       "      <td>951.0</td>\n",
       "      <td>NaN</td>\n",
       "      <td>NaN</td>\n",
       "      <td>NaN</td>\n",
       "      <td>NaN</td>\n",
       "      <td>NaN</td>\n",
       "      <td>NaN</td>\n",
       "      <td>NaN</td>\n",
       "      <td>NaN</td>\n",
       "      <td>NaN</td>\n",
       "    </tr>\n",
       "    <tr>\n",
       "      <th>99</th>\n",
       "      <td>NaN</td>\n",
       "      <td>NaN</td>\n",
       "      <td>NaN</td>\n",
       "      <td>NaN</td>\n",
       "      <td>NaN</td>\n",
       "      <td>NaN</td>\n",
       "      <td>NaN</td>\n",
       "      <td>NaN</td>\n",
       "      <td>951.0</td>\n",
       "      <td>NaN</td>\n",
       "      <td>...</td>\n",
       "      <td>NaN</td>\n",
       "      <td>NaN</td>\n",
       "      <td>NaN</td>\n",
       "      <td>NaN</td>\n",
       "      <td>NaN</td>\n",
       "      <td>NaN</td>\n",
       "      <td>NaN</td>\n",
       "      <td>NaN</td>\n",
       "      <td>NaN</td>\n",
       "      <td>NaN</td>\n",
       "    </tr>\n",
       "  </tbody>\n",
       "</table>\n",
       "<p>100 rows × 30 columns</p>\n",
       "</div>"
      ],
      "text/plain": [
       "       0      1      2      3      4      5      6      7      8      9   ...  \\\n",
       "0   951.0  951.0  951.0  951.0  951.0  951.0  951.0  951.0  951.0  951.0  ...   \n",
       "1   951.0  951.0  951.0  951.0  951.0  951.0  951.0  951.0  951.0  951.0  ...   \n",
       "2   951.0  951.0  951.0  951.0  951.0  951.0  951.0  951.0  951.0  951.0  ...   \n",
       "3   951.0  951.0  951.0  951.0  951.0  951.0  951.0  951.0  951.0  951.0  ...   \n",
       "4   951.0  951.0  951.0  951.0  951.0  951.0  951.0  951.0  951.0  951.0  ...   \n",
       "..    ...    ...    ...    ...    ...    ...    ...    ...    ...    ...  ...   \n",
       "95    NaN    NaN  951.0    NaN    NaN  951.0  951.0    NaN  951.0  476.0  ...   \n",
       "96    NaN    NaN    NaN    NaN    NaN    NaN    NaN    NaN    NaN    NaN  ...   \n",
       "97    NaN    NaN    NaN    NaN    NaN    NaN    NaN    NaN    NaN    NaN  ...   \n",
       "98    NaN    NaN    NaN    NaN    NaN    NaN  476.0    NaN    NaN    NaN  ...   \n",
       "99    NaN    NaN    NaN    NaN    NaN    NaN    NaN    NaN  951.0    NaN  ...   \n",
       "\n",
       "       20     21     22     23     24     25  26  27     28  29  \n",
       "0     NaN  951.0    NaN  951.0  951.0  951.0 NaN NaN  951.0 NaN  \n",
       "1     NaN  951.0    NaN  951.0  951.0  951.0 NaN NaN  951.0 NaN  \n",
       "2     NaN  951.0    NaN  951.0  951.0  951.0 NaN NaN  951.0 NaN  \n",
       "3     NaN  951.0  476.0  951.0  951.0  951.0 NaN NaN  951.0 NaN  \n",
       "4     NaN  951.0  476.0  951.0  951.0  951.0 NaN NaN  951.0 NaN  \n",
       "..    ...    ...    ...    ...    ...    ...  ..  ..    ...  ..  \n",
       "95  951.0    NaN    NaN    NaN    NaN    NaN NaN NaN    NaN NaN  \n",
       "96  475.0    NaN    NaN    NaN    NaN    NaN NaN NaN    NaN NaN  \n",
       "97    NaN    NaN    NaN    NaN    NaN    NaN NaN NaN    NaN NaN  \n",
       "98  951.0    NaN    NaN    NaN    NaN    NaN NaN NaN    NaN NaN  \n",
       "99    NaN    NaN    NaN    NaN    NaN    NaN NaN NaN    NaN NaN  \n",
       "\n",
       "[100 rows x 30 columns]"
      ]
     },
     "execution_count": 30,
     "metadata": {},
     "output_type": "execute_result"
    }
   ],
   "source": [
    "# skip first 50 rounds to give time to settle\n",
    "attendance = [np.where(Xnp[:,50:]) for Xnp in Xnps]\n",
    "ppl = [pd.Series(a[0]) for a in attendance]\n",
    "\n",
    "cnts = pd.DataFrame(index=range(100))\n",
    "for i in range(30):\n",
    "    cnts[i] = ppl[i].value_counts()\n",
    "    \n",
    "cnts"
   ]
  },
  {
   "cell_type": "code",
   "execution_count": 37,
   "id": "1204547b-4721-4400-a4ef-7793f018849a",
   "metadata": {},
   "outputs": [
    {
     "data": {
      "text/plain": [
       "475.0"
      ]
     },
     "execution_count": 37,
     "metadata": {},
     "output_type": "execute_result"
    }
   ],
   "source": [
    "cnts.loc[20,0]"
   ]
  },
  {
   "cell_type": "code",
   "execution_count": 45,
   "id": "f7751554-16ce-4e4e-a175-c12a39132dd4",
   "metadata": {},
   "outputs": [
    {
     "data": {
      "text/plain": [
       "0     951\n",
       "1     951\n",
       "14    951\n",
       "13    951\n",
       "12    951\n",
       "11    951\n",
       "10    951\n",
       "25    951\n",
       "9     951\n",
       "8     951\n",
       "7     951\n",
       "6     951\n",
       "5     951\n",
       "68    951\n",
       "4     951\n",
       "19    951\n",
       "3     951\n",
       "2     951\n",
       "17    951\n",
       "15    951\n",
       "43    476\n",
       "20    475\n",
       "dtype: int64"
      ]
     },
     "execution_count": 45,
     "metadata": {},
     "output_type": "execute_result"
    }
   ],
   "source": [
    "ppl[0].value_counts()"
   ]
  },
  {
   "cell_type": "markdown",
   "id": "f9cd591e-23f6-4578-8e7b-c6123c47617e",
   "metadata": {},
   "source": [
    "Ok a few questions here.\n",
    "\n",
    "1.  That periodicity thing I keep thinking about but still haven't tracked down\n",
    "2.  Frequency distribution among nodes-- are the same ones usually always/never?\n",
    "3.  Relationship to community membership\n",
    "4.  Relationship to degree"
   ]
  },
  {
   "cell_type": "code",
   "execution_count": 53,
   "id": "243ccbb3-d257-407e-ac19-0ff6d7086b0f",
   "metadata": {},
   "outputs": [
    {
     "data": {
      "text/plain": [
       "matrix([[ True, False,  True, False,  True, False,  True, False,  True,\n",
       "         False]])"
      ]
     },
     "execution_count": 53,
     "metadata": {},
     "output_type": "execute_result"
    }
   ],
   "source": [
    "Xnps[0][20, -10:]"
   ]
  },
  {
   "cell_type": "code",
   "execution_count": 52,
   "id": "0c3bb4a6-3355-4932-b8b9-860b2422d136",
   "metadata": {},
   "outputs": [
    {
     "data": {
      "text/plain": [
       "matrix([[False,  True, False,  True, False,  True, False,  True, False,\n",
       "          True]])"
      ]
     },
     "execution_count": 52,
     "metadata": {},
     "output_type": "execute_result"
    }
   ],
   "source": [
    "Xnps[0][43, -10:]"
   ]
  },
  {
   "cell_type": "markdown",
   "id": "b0425fa0-2280-4b27-a81e-873fed8395b9",
   "metadata": {},
   "source": [
    "Woohoo we have periodicity!  Why does it happen at these particular nodes?\n",
    "\n",
    "Let's have a look (and maybe pimp out the animate function while we are at it)"
   ]
  },
  {
   "cell_type": "code",
   "execution_count": 54,
   "id": "af7a993c-c4a0-4021-a41c-94ad174808de",
   "metadata": {},
   "outputs": [
    {
     "data": {
      "text/plain": [
       "{20: Text(0.16132287285404365, -0.1564554448533781, '20'),\n",
       " 43: Text(0.23424246672041482, -0.29034854752009387, '43')}"
      ]
     },
     "execution_count": 54,
     "metadata": {},
     "output_type": "execute_result"
    },
    {
     "data": {
      "image/png": "[encoded data removed]",
      "text/plain": [
       "<Figure size 432x288 with 1 Axes>"
      ]
     },
     "metadata": {},
     "output_type": "display_data"
    }
   ],
   "source": [
    "nx.draw_networkx_nodes(G, pos, nodelist=range(0,sizes[0]), node_color=\"tab:red\")\n",
    "nx.draw_networkx_nodes(G, pos, nodelist=range(sizes[0], sizes[0]+sizes[1]), node_color=\"tab:blue\")\n",
    "nx.draw_networkx_nodes(G, pos, nodelist=range(sizes[0]+sizes[1], 100), node_color=\"tab:orange\")\n",
    "nx.draw_networkx_edges(G, pos)\n",
    "nx.draw_networkx_labels(G, pos, labels={20:20, 43:43})"
   ]
  },
  {
   "cell_type": "code",
   "execution_count": 55,
   "id": "f1b0d5ca-78c3-4ef6-ac7a-2af4105a497c",
   "metadata": {},
   "outputs": [
    {
     "data": {
      "image/png": "[encoded data removed]",
      "text/plain": [
       "<Figure size 576x432 with 1 Axes>"
      ]
     },
     "metadata": {},
     "output_type": "display_data"
    }
   ],
   "source": [
    "def animate_step(t, Xnp, pos, G, ax):\n",
    "    ax.clear()\n",
    "\n",
    "    went = np.where([Xnp[:,t]])[1]\n",
    "    home = np.where([1 - Xnp[:,t]])[1]\n",
    "\n",
    "    nx.draw_networkx_nodes(G, pos, nodelist=home, node_color=\"black\")\n",
    "\n",
    "    colors = [\"tab:red\", \"tab:blue\", \"tab:orange\"]\n",
    "\n",
    "    for i, c in enumerate(colors):\n",
    "        # which members of group i went?\n",
    "        mask = went < transitions[i]\n",
    "\n",
    "        if i > 0:\n",
    "            mask = np.logical_and(mask, went > transitions[i-1])\n",
    "\n",
    "        nx.draw_networkx_nodes(G, pos, nodelist=went[np.where(mask)], node_color=c)\n",
    "\n",
    "    nx.draw_networkx_edges(G, pos)\n",
    "\n",
    "    # Set the title\n",
    "    ax.set_title(\"Frame {}\".format(t))\n",
    "    \n",
    "    \n",
    "def make_animation(Xnp, title):\n",
    "    fig, ax = plt.subplots(figsize=(8,6))\n",
    "    ani = animation.FuncAnimation(fig, animate_step, frames=Xnp.shape[1], fargs=(Xnp, pos, G, ax))\n",
    "    ani.save(title, writer=\"pillow\")\n",
    "    \n",
    "    \n",
    "make_animation(Xnps[0][:,-100:], \"../images/strategy_deterministic_trial_0.gif\")"
   ]
  },
  {
   "cell_type": "markdown",
   "id": "df9bcf8c-cf05-44cd-9723-91e1a3972fbe",
   "metadata": {},
   "source": [
    "Okay so in this case, the periodicity is like a game of telephone tag.  Node 20 goes because they think their friend 43 will be there, but they aren't.  Then node 43 goes because they think that node 20 will be there but they aren't.  Let's look at an example with more periodic nodes."
   ]
  },
  {
   "cell_type": "code",
   "execution_count": 57,
   "id": "666fd78a-37b6-4c92-b865-a6555a891290",
   "metadata": {},
   "outputs": [
    {
     "data": {
      "image/png": "[encoded data removed]",
      "text/plain": [
       "<Figure size 576x432 with 1 Axes>"
      ]
     },
     "metadata": {},
     "output_type": "display_data"
    }
   ],
   "source": [
    "make_animation(Xnps[1][:,-100:], \"../images/strategy_deterministic_trial_1.gif\")"
   ]
  },
  {
   "cell_type": "code",
   "execution_count": 58,
   "id": "a7cba342-6997-4200-b385-dcf8956066c0",
   "metadata": {},
   "outputs": [
    {
     "data": {
      "text/plain": [
       "0     951\n",
       "6     951\n",
       "14    951\n",
       "13    951\n",
       "12    951\n",
       "11    951\n",
       "10    951\n",
       "9     951\n",
       "1     951\n",
       "7     951\n",
       "8     951\n",
       "5     951\n",
       "68    951\n",
       "4     951\n",
       "19    951\n",
       "3     951\n",
       "2     951\n",
       "17    951\n",
       "15    951\n",
       "37    476\n",
       "25    476\n",
       "51    476\n",
       "42    475\n",
       "58    475\n",
       "43    475\n",
       "28    475\n",
       "dtype: int64"
      ]
     },
     "execution_count": 58,
     "metadata": {},
     "output_type": "execute_result"
    }
   ],
   "source": [
    "ppl[1].value_counts()"
   ]
  },
  {
   "cell_type": "markdown",
   "id": "89f72baf-3497-49e3-9044-914a4cb004fa",
   "metadata": {},
   "source": [
    "This is the telephone tag again...\n",
    "\n",
    "I wonder if anything has period greater than 2?"
   ]
  },
  {
   "cell_type": "code",
   "execution_count": 63,
   "id": "dcbcc8e7-8dd2-45fb-bb2b-004ce9b994da",
   "metadata": {},
   "outputs": [
    {
     "data": {
      "text/plain": [
       "False"
      ]
     },
     "execution_count": 63,
     "metadata": {},
     "output_type": "execute_result"
    }
   ],
   "source": [
    "(cnts < 475).any().any()"
   ]
  },
  {
   "cell_type": "markdown",
   "id": "b2eb723f-74e7-4e3a-b040-a38287e647f9",
   "metadata": {},
   "source": [
    "Welp... there's a quick answer.  I think in principle it could happen though...\n",
    "\n",
    "Anyway, periodicity has been found.  Now let's look at the distribution of sometimes/always/never across trials\n",
    "\n",
    "## Community 0"
   ]
  },
  {
   "cell_type": "code",
   "execution_count": 67,
   "id": "912ce77c-14ec-443f-be76-20b26e8d1b1b",
   "metadata": {},
   "outputs": [
    {
     "data": {
      "text/plain": [
       "0     928.333333\n",
       "1     889.000000\n",
       "2     951.000000\n",
       "3     871.791667\n",
       "4     889.000000\n",
       "5     907.727273\n",
       "6     907.818182\n",
       "7     951.000000\n",
       "8     888.956522\n",
       "9     928.333333\n",
       "10    888.956522\n",
       "11    889.000000\n",
       "12    907.818182\n",
       "13    929.409091\n",
       "14    871.708333\n",
       "15    907.818182\n",
       "16    611.285714\n",
       "17    928.380952\n",
       "18           NaN\n",
       "19    888.913043\n",
       "dtype: float64"
      ]
     },
     "execution_count": 67,
     "metadata": {},
     "output_type": "execute_result"
    }
   ],
   "source": [
    "cnts.mean(axis=1)[:20]"
   ]
  },
  {
   "cell_type": "code",
   "execution_count": 68,
   "id": "267d31ec-7264-45a0-8ec1-127948b0ed4a",
   "metadata": {},
   "outputs": [
    {
     "data": {
      "text/plain": [
       "20    772.625000\n",
       "21    476.000000\n",
       "22    594.500000\n",
       "23           NaN\n",
       "24    475.750000\n",
       "25    845.444444\n",
       "26    475.000000\n",
       "27    633.666667\n",
       "28    570.400000\n",
       "29           NaN\n",
       "30    476.000000\n",
       "31    476.000000\n",
       "32    634.000000\n",
       "33    475.500000\n",
       "34    475.000000\n",
       "35           NaN\n",
       "36    475.000000\n",
       "37    594.750000\n",
       "38    475.250000\n",
       "39    476.000000\n",
       "40           NaN\n",
       "41           NaN\n",
       "42    570.200000\n",
       "43    739.555556\n",
       "44    475.500000\n",
       "45    475.000000\n",
       "46    475.000000\n",
       "47           NaN\n",
       "48    475.750000\n",
       "49    476.000000\n",
       "50    475.500000\n",
       "51    594.750000\n",
       "52           NaN\n",
       "53    713.500000\n",
       "54           NaN\n",
       "55           NaN\n",
       "56           NaN\n",
       "57    594.250000\n",
       "58    594.000000\n",
       "59    634.000000\n",
       "60           NaN\n",
       "61    475.500000\n",
       "62    476.000000\n",
       "63    475.000000\n",
       "64    832.000000\n",
       "65    476.000000\n",
       "66           NaN\n",
       "67           NaN\n",
       "68    907.772727\n",
       "69    713.500000\n",
       "dtype: float64"
      ]
     },
     "execution_count": 68,
     "metadata": {},
     "output_type": "execute_result"
    }
   ],
   "source": [
    "cnts.mean(axis=1)[20:70]"
   ]
  },
  {
   "cell_type": "code",
   "execution_count": 69,
   "id": "3eeb11f5-48d6-43cb-b831-cac3e4984083",
   "metadata": {},
   "outputs": [
    {
     "data": {
      "text/plain": [
       "70    903.500000\n",
       "71    907.727273\n",
       "72    634.000000\n",
       "73    907.818182\n",
       "74    855.900000\n",
       "75    855.900000\n",
       "76    898.222222\n",
       "77    907.727273\n",
       "78           NaN\n",
       "79    864.545455\n",
       "80           NaN\n",
       "81           NaN\n",
       "82    634.333333\n",
       "83    855.900000\n",
       "84    476.000000\n",
       "85    476.000000\n",
       "86           NaN\n",
       "87    594.250000\n",
       "88           NaN\n",
       "89    907.727273\n",
       "90           NaN\n",
       "91    760.800000\n",
       "92    475.000000\n",
       "93    903.500000\n",
       "94    898.111111\n",
       "95    907.818182\n",
       "96    633.666667\n",
       "97    634.000000\n",
       "98    760.800000\n",
       "99    594.750000\n",
       "dtype: float64"
      ]
     },
     "execution_count": 69,
     "metadata": {},
     "output_type": "execute_result"
    }
   ],
   "source": [
    "cnts.mean(axis=1)[70:]"
   ]
  },
  {
   "cell_type": "code",
   "execution_count": 104,
   "id": "d4c61da8-2a40-4c96-9c2b-dbb43353735c",
   "metadata": {},
   "outputs": [
    {
     "data": {
      "text/plain": [
       "[2, 5, 6, 8, 9, 11, 12, 14, 16, 18, 20]"
      ]
     },
     "execution_count": 104,
     "metadata": {},
     "output_type": "execute_result"
    }
   ],
   "source": [
    "c3s = []\n",
    "for i in range(30):\n",
    "    if Xnps[i][70:,-100:].sum() > 0:\n",
    "        c3s.append(i)\n",
    "        \n",
    "c3s"
   ]
  },
  {
   "cell_type": "code",
   "execution_count": 108,
   "id": "fd277995-d9d2-4404-873a-898d13104cba",
   "metadata": {},
   "outputs": [
    {
     "data": {
      "image/png": "[encoded data removed]",
      "text/plain": [
       "<Figure size 576x432 with 1 Axes>"
      ]
     },
     "metadata": {},
     "output_type": "display_data"
    }
   ],
   "source": [
    "make_animation(Xnps[18][:,-100:], \"../images/strategy_deterministic_trial_18.gif\")"
   ]
  },
  {
   "cell_type": "markdown",
   "id": "dc0c01a6-67be-4625-85b2-cfcc79e6410b",
   "metadata": {},
   "source": [
    "Okay, well, I forget exactly what I was going for here, but yes, community 3 can contain always and alternate in some trials.  In others it doesn't.\n",
    "\n",
    "In each trial, some nodes are always, sometimes or never.  Between trials, some nodes are always always, some are sometimes always, and some are never always.  Likewise for the other two.\n",
    "\n",
    "But WHICH nodes and WHY????"
   ]
  },
  {
   "cell_type": "code",
   "execution_count": 116,
   "id": "d87a7a91-4f01-4e59-8c4c-8298940877a8",
   "metadata": {},
   "outputs": [
    {
     "data": {
      "text/plain": [
       "0.0      2275\n",
       "951.0     547\n",
       "476.0      91\n",
       "475.0      87\n",
       "dtype: int64"
      ]
     },
     "execution_count": 116,
     "metadata": {},
     "output_type": "execute_result"
    }
   ],
   "source": [
    "pd.Series(np.ravel(cnts.fillna(0).values)).value_counts()"
   ]
  },
  {
   "cell_type": "code",
   "execution_count": 148,
   "id": "bcb1a3e4-5fb9-4315-be6a-e6d30adc6ea6",
   "metadata": {},
   "outputs": [],
   "source": [
    "cnts[\"Always\"] = (cnts==951).mean(axis=1)\n",
    "cnts[\"Sometimes\"] = (cnts < 951).mean(axis=1)\n",
    "cnts[\"Never\"] = cnts.isna().mean(axis=1)\n",
    "cnts[\"Degree\"] = pd.Series({node:val for (node, val) in G.degree()})"
   ]
  },
  {
   "cell_type": "code",
   "execution_count": 150,
   "id": "7dbd478b-dddb-4e6a-9ffd-1463697a7a41",
   "metadata": {},
   "outputs": [
    {
     "data": {
      "text/html": [
       "<div>\n",
       "<style scoped>\n",
       "    .dataframe tbody tr th:only-of-type {\n",
       "        vertical-align: middle;\n",
       "    }\n",
       "\n",
       "    .dataframe tbody tr th {\n",
       "        vertical-align: top;\n",
       "    }\n",
       "\n",
       "    .dataframe thead th {\n",
       "        text-align: right;\n",
       "    }\n",
       "</style>\n",
       "<table border=\"1\" class=\"dataframe\">\n",
       "  <thead>\n",
       "    <tr style=\"text-align: right;\">\n",
       "      <th></th>\n",
       "      <th>Always</th>\n",
       "      <th>Sometimes</th>\n",
       "      <th>Never</th>\n",
       "      <th>Degree</th>\n",
       "    </tr>\n",
       "  </thead>\n",
       "  <tbody>\n",
       "    <tr>\n",
       "      <th>Always</th>\n",
       "      <td>1.000000</td>\n",
       "      <td>0.109685</td>\n",
       "      <td>-0.985334</td>\n",
       "      <td>0.557069</td>\n",
       "    </tr>\n",
       "    <tr>\n",
       "      <th>Sometimes</th>\n",
       "      <td>0.109685</td>\n",
       "      <td>1.000000</td>\n",
       "      <td>-0.277682</td>\n",
       "      <td>0.444690</td>\n",
       "    </tr>\n",
       "    <tr>\n",
       "      <th>Never</th>\n",
       "      <td>-0.985334</td>\n",
       "      <td>-0.277682</td>\n",
       "      <td>1.000000</td>\n",
       "      <td>-0.614751</td>\n",
       "    </tr>\n",
       "    <tr>\n",
       "      <th>Degree</th>\n",
       "      <td>0.557069</td>\n",
       "      <td>0.444690</td>\n",
       "      <td>-0.614751</td>\n",
       "      <td>1.000000</td>\n",
       "    </tr>\n",
       "  </tbody>\n",
       "</table>\n",
       "</div>"
      ],
      "text/plain": [
       "             Always  Sometimes     Never    Degree\n",
       "Always     1.000000   0.109685 -0.985334  0.557069\n",
       "Sometimes  0.109685   1.000000 -0.277682  0.444690\n",
       "Never     -0.985334  -0.277682  1.000000 -0.614751\n",
       "Degree     0.557069   0.444690 -0.614751  1.000000"
      ]
     },
     "execution_count": 150,
     "metadata": {},
     "output_type": "execute_result"
    }
   ],
   "source": [
    "cnts[[\"Always\", \"Sometimes\", \"Never\", \"Degree\"]].corr()"
   ]
  },
  {
   "cell_type": "code",
   "execution_count": 151,
   "id": "21aec08b-4ea0-40db-8a27-672b0bfd6e13",
   "metadata": {},
   "outputs": [
    {
     "data": {
      "text/plain": [
       "<AxesSubplot:xlabel='Degree', ylabel='Always'>"
      ]
     },
     "execution_count": 151,
     "metadata": {},
     "output_type": "execute_result"
    },
    {
     "data": {
      "image/png": "[encoded data removed]",
      "text/plain": [
       "<Figure size 432x288 with 1 Axes>"
      ]
     },
     "metadata": {
      "needs_background": "light"
     },
     "output_type": "display_data"
    }
   ],
   "source": [
    "cnts.plot(kind=\"scatter\", x=\"Degree\", y=\"Always\")"
   ]
  },
  {
   "cell_type": "code",
   "execution_count": 152,
   "id": "36f7297c-7c11-499a-87e0-e09dc562c822",
   "metadata": {},
   "outputs": [
    {
     "data": {
      "text/plain": [
       "<AxesSubplot:xlabel='Degree', ylabel='Sometimes'>"
      ]
     },
     "execution_count": 152,
     "metadata": {},
     "output_type": "execute_result"
    },
    {
     "data": {
      "image/png": "[encoded data removed]",
      "text/plain": [
       "<Figure size 432x288 with 1 Axes>"
      ]
     },
     "metadata": {
      "needs_background": "light"
     },
     "output_type": "display_data"
    }
   ],
   "source": [
    "cnts.plot(kind=\"scatter\", x=\"Degree\", y=\"Sometimes\")"
   ]
  },
  {
   "cell_type": "code",
   "execution_count": 153,
   "id": "b3dad0ff-e3b6-43dd-9201-206cf8f8529f",
   "metadata": {},
   "outputs": [
    {
     "data": {
      "text/plain": [
       "<AxesSubplot:xlabel='Degree', ylabel='Never'>"
      ]
     },
     "execution_count": 153,
     "metadata": {},
     "output_type": "execute_result"
    },
    {
     "data": {
      "image/png": "[encoded data removed]",
      "text/plain": [
       "<Figure size 432x288 with 1 Axes>"
      ]
     },
     "metadata": {
      "needs_background": "light"
     },
     "output_type": "display_data"
    }
   ],
   "source": [
    "cnts.plot(kind=\"scatter\", x=\"Degree\", y=\"Never\")"
   ]
  },
  {
   "cell_type": "markdown",
   "id": "32932382-0132-4e4a-a656-3dca085bd183",
   "metadata": {},
   "source": [
    "Okay so higher degree is unsurprisingly more correlated with Always.  Can I do some actual math here?  Assuming a configuration model to start, then we can do community structure.  On all-to-all network everyone would go and everyone would regret it.\n",
    "\n",
    "Also... what am I envisioning now for the rest of this project?\n",
    "\n",
    "1. Derive a formula for expected nodes going.  Solve for optimal solution.\n",
    "2. Allow the system to evolve.  Do they match?\n",
    "3. What is the impact of heat on trials?  Is there a tradeoff between heat and evolution?  Can we make a heat an evolutionary parameter?"
   ]
  },
  {
   "cell_type": "code",
   "execution_count": 161,
   "id": "b518626a-c640-43f8-b397-77f67034dfe3",
   "metadata": {},
   "outputs": [
    {
     "data": {
      "text/plain": [
       "[<matplotlib.lines.Line2D at 0x11a72c730>]"
      ]
     },
     "execution_count": 161,
     "metadata": {},
     "output_type": "execute_result"
    },
    {
     "data": {
      "image/png": "[encoded data removed]",
      "text/plain": [
       "<Figure size 432x288 with 1 Axes>"
      ]
     },
     "metadata": {
      "needs_background": "light"
     },
     "output_type": "display_data"
    }
   ],
   "source": [
    "plt.plot(np.ravel(Xnps[3].sum(axis=0)))"
   ]
  },
  {
   "cell_type": "code",
   "execution_count": 163,
   "id": "0c18d610-448a-4847-ada4-f0715ee9d047",
   "metadata": {},
   "outputs": [
    {
     "data": {
      "text/plain": [
       "[<matplotlib.lines.Line2D at 0x11a7f8c10>]"
      ]
     },
     "execution_count": 163,
     "metadata": {},
     "output_type": "execute_result"
    },
    {
     "data": {
      "image/png": "[encoded data removed]",
      "text/plain": [
       "<Figure size 432x288 with 1 Axes>"
      ]
     },
     "metadata": {
      "needs_background": "light"
     },
     "output_type": "display_data"
    }
   ],
   "source": [
    "plt.plot(np.ravel(Xnps[0].sum(axis=0)))"
   ]
  },
  {
   "cell_type": "code",
   "execution_count": 164,
   "id": "fa021676-343a-4b60-8d78-324785582e07",
   "metadata": {},
   "outputs": [
    {
     "data": {
      "text/plain": [
       "[<matplotlib.lines.Line2D at 0x11a8655b0>]"
      ]
     },
     "execution_count": 164,
     "metadata": {},
     "output_type": "execute_result"
    },
    {
     "data": {
      "image/png": "[encoded data removed]",
      "text/plain": [
       "<Figure size 432x288 with 1 Axes>"
      ]
     },
     "metadata": {
      "needs_background": "light"
     },
     "output_type": "display_data"
    }
   ],
   "source": [
    "plt.plot(np.ravel(Xnps[1].sum(axis=0)))"
   ]
  },
  {
   "cell_type": "markdown",
   "id": "819bf49b-327d-4531-a1cd-a1a23c0a3465",
   "metadata": {},
   "source": [
    "Wait is there more than one stable subset of everyone going or just one?"
   ]
  },
  {
   "cell_type": "code",
   "execution_count": 174,
   "id": "3a1cd1b9-24fa-447f-906d-e0c79b8540d6",
   "metadata": {},
   "outputs": [
    {
     "data": {
      "text/plain": [
       "(array([ 2,  4,  5,  7, 17, 21, 24, 28]),)"
      ]
     },
     "execution_count": 174,
     "metadata": {},
     "output_type": "execute_result"
    }
   ],
   "source": [
    "stable = np.where(cnts.min() == 951)\n",
    "stable"
   ]
  },
  {
   "cell_type": "code",
   "execution_count": 190,
   "id": "04102215-fbc8-4941-a472-d4bb34549fbd",
   "metadata": {},
   "outputs": [
    {
     "data": {
      "text/plain": [
       "True"
      ]
     },
     "execution_count": 190,
     "metadata": {},
     "output_type": "execute_result"
    }
   ],
   "source": [
    "set(cnts[cnts[2]==951].index.values) == set(cnts[cnts[5]==951].index.values)"
   ]
  },
  {
   "cell_type": "code",
   "execution_count": 191,
   "id": "ed96a3aa-baed-4f89-97f6-1b9de763172a",
   "metadata": {},
   "outputs": [
    {
     "data": {
      "text/plain": [
       "False"
      ]
     },
     "execution_count": 191,
     "metadata": {},
     "output_type": "execute_result"
    }
   ],
   "source": [
    "set(cnts[cnts[2]==951].index.values) == set(cnts[cnts[4]==951].index.values)"
   ]
  },
  {
   "cell_type": "code",
   "execution_count": 193,
   "id": "f8bb0bd1-cc46-4e68-995c-3fc39c30465f",
   "metadata": {},
   "outputs": [
    {
     "data": {
      "text/plain": [
       "[32, 19, 32, 19, 19, 19, 19, 19]"
      ]
     },
     "execution_count": 193,
     "metadata": {},
     "output_type": "execute_result"
    }
   ],
   "source": [
    "[len(cnts[cnts[i]==951].index.values) for i in stable[0]]"
   ]
  },
  {
   "cell_type": "code",
   "execution_count": 198,
   "id": "9c88f6fb-4dff-412e-a036-a9a3ce6a2e01",
   "metadata": {},
   "outputs": [
    {
     "data": {
      "text/plain": [
       "True"
      ]
     },
     "execution_count": 198,
     "metadata": {},
     "output_type": "execute_result"
    }
   ],
   "source": [
    "set(cnts[cnts[24]==951].index.values) == set(cnts[cnts[28]==951].index.values)"
   ]
  },
  {
   "cell_type": "code",
   "execution_count": 200,
   "id": "21d3c944-c1ff-4304-9de5-e7f170b0d837",
   "metadata": {},
   "outputs": [
    {
     "data": {
      "text/plain": [
       "True"
      ]
     },
     "execution_count": 200,
     "metadata": {},
     "output_type": "execute_result"
    }
   ],
   "source": [
    "set(cnts[cnts[4]==951].index.values).intersection(set(cnts[cnts[2]==951].index.values)) == set(cnts[cnts[4]==951].index.values)"
   ]
  },
  {
   "cell_type": "code",
   "execution_count": 209,
   "id": "11a62b5f-7a1c-4fa0-aa56-11687d9f1905",
   "metadata": {},
   "outputs": [
    {
     "data": {
      "text/plain": [
       "array([ 0,  1,  2,  3,  4,  5,  6,  7,  8,  9, 10, 11, 12, 13, 14, 15, 17,\n",
       "       19, 68, 70, 71, 73, 74, 75, 76, 77, 79, 83, 89, 93, 94, 95])"
      ]
     },
     "execution_count": 209,
     "metadata": {},
     "output_type": "execute_result"
    }
   ],
   "source": [
    "cnts[cnts[2]==951].index.values"
   ]
  },
  {
   "cell_type": "markdown",
   "id": "5f7103c2-9189-48ae-93b8-e177e74c3996",
   "metadata": {},
   "source": [
    "There are two fixed points that were found here.  One is a subset of the other.\n",
    "\n",
    "Theoretically, groups of alternating nodes should support each other.  What happens if we take conditions with sometimeses and set them all to attend in the same week?"
   ]
  },
  {
   "cell_type": "code",
   "execution_count": 211,
   "id": "0f86cc60-f721-46bc-b93e-590b608efa7f",
   "metadata": {},
   "outputs": [],
   "source": [
    "X = np.zeros(shape=(100,1),dtype=bool)\n",
    "X[np.where(~cnts[0].isna())[0]] = True\n",
    "Xnp = run_sim(n_iter, X, eps, M, minfriends, minbad)"
   ]
  },
  {
   "cell_type": "code",
   "execution_count": 213,
   "id": "8442266a-98d5-4119-9b51-5b8b673e1493",
   "metadata": {},
   "outputs": [
    {
     "data": {
      "text/plain": [
       "matrix([[0.22, 0.22, 0.22, ..., 0.22, 0.22, 0.22]])"
      ]
     },
     "execution_count": 213,
     "metadata": {},
     "output_type": "execute_result"
    }
   ],
   "source": [
    "Xnp.mean(axis=0)"
   ]
  },
  {
   "cell_type": "code",
   "execution_count": 219,
   "id": "fd515bb5-eff3-46d5-8ff7-0e6b8413d705",
   "metadata": {},
   "outputs": [],
   "source": [
    "for col in range(len(Xnp)):\n",
    "    if (Xnp[:,0] != Xnp[:,col]).all():\n",
    "        print(col)"
   ]
  },
  {
   "cell_type": "code",
   "execution_count": 221,
   "id": "d1c87654-44ee-410b-9a00-e6f09169592b",
   "metadata": {},
   "outputs": [
    {
     "data": {
      "text/plain": [
       "{0, 1, 2, 3, 4, 5, 6, 7, 8, 9, 10, 11, 12, 13, 14, 15, 17, 19, 20, 25, 43, 68}"
      ]
     },
     "execution_count": 221,
     "metadata": {},
     "output_type": "execute_result"
    }
   ],
   "source": [
    "set(np.where(~cnts[0].isna())[0])"
   ]
  },
  {
   "cell_type": "code",
   "execution_count": 222,
   "id": "8d1f4d2c-b8b9-460e-a6bd-bae1e338b30d",
   "metadata": {},
   "outputs": [
    {
     "data": {
      "text/plain": [
       "22"
      ]
     },
     "execution_count": 222,
     "metadata": {},
     "output_type": "execute_result"
    }
   ],
   "source": [
    "len(set(np.where(~cnts[0].isna())[0]))"
   ]
  },
  {
   "cell_type": "markdown",
   "id": "26b7db3f-a5c4-4113-80b6-ee2f83a7c1c1",
   "metadata": {},
   "source": [
    "Great!  We have new fixed point that couldn't stabilize itself before!  It's still a subset of the big one.\n",
    "\n",
    "Now let's look at one that involved community #3.  This one won't be a subset of the big group."
   ]
  },
  {
   "cell_type": "code",
   "execution_count": 223,
   "id": "59a0e451-c776-4557-92e0-2115758ac1b2",
   "metadata": {},
   "outputs": [
    {
     "data": {
      "text/plain": [
       "matrix([[0.51, 0.51, 0.51, ..., 0.51, 0.51, 0.51]])"
      ]
     },
     "execution_count": 223,
     "metadata": {},
     "output_type": "execute_result"
    }
   ],
   "source": [
    "X = np.zeros(shape=(100,1),dtype=bool)\n",
    "X[np.where(~cnts[18].isna())[0]] = True\n",
    "Xnp = run_sim(n_iter, X, eps, M, minfriends, minbad)\n",
    "Xnp.mean(axis=0)"
   ]
  },
  {
   "cell_type": "code",
   "execution_count": 224,
   "id": "7e937927-2b1f-4c09-892e-3ca1d7c349c9",
   "metadata": {},
   "outputs": [],
   "source": [
    "for col in range(len(Xnp)):\n",
    "    if (Xnp[:,0] != Xnp[:,col]).all():\n",
    "        print(col)"
   ]
  },
  {
   "cell_type": "code",
   "execution_count": 229,
   "id": "5e40f9be-a858-4e54-8c71-ccc7e8295317",
   "metadata": {},
   "outputs": [
    {
     "data": {
      "text/plain": [
       "array([ 0,  1,  2,  3,  4,  5,  6,  7,  8,  9, 10, 11, 12, 13, 14, 15, 16,\n",
       "       17, 19, 30, 31, 34, 36, 42, 63, 65, 68, 70, 71, 72, 73, 74, 75, 76,\n",
       "       77, 79, 82, 83, 84, 85, 87, 89, 91, 92, 93, 94, 95, 96, 97, 98, 99])"
      ]
     },
     "execution_count": 229,
     "metadata": {},
     "output_type": "execute_result"
    }
   ],
   "source": [
    "np.where(~cnts[18].isna())[0]"
   ]
  },
  {
   "cell_type": "markdown",
   "id": "093b597f-535c-4df7-89cb-1aae923f250b",
   "metadata": {},
   "source": [
    "Okay this is a fixed point too we just didn't converge to it.\n",
    "\n",
    "Just for fun....  test with minfriends = 3\n",
    "I think this might be always empty unless we crank up the degree a lot."
   ]
  },
  {
   "cell_type": "code",
   "execution_count": 230,
   "id": "49a16729-a66a-4ce7-b872-d824ce864ffe",
   "metadata": {},
   "outputs": [
    {
     "name": "stdout",
     "output_type": "stream",
     "text": [
      "Ran simulation 0\n",
      "Ran simulation 1\n",
      "Ran simulation 2\n",
      "Ran simulation 3\n",
      "Ran simulation 4\n",
      "Ran simulation 5\n",
      "Ran simulation 6\n",
      "Ran simulation 7\n",
      "Ran simulation 8\n",
      "Ran simulation 9\n",
      "Ran simulation 10\n",
      "Ran simulation 11\n",
      "Ran simulation 12\n",
      "Ran simulation 13\n",
      "Ran simulation 14\n",
      "Ran simulation 15\n",
      "Ran simulation 16\n",
      "Ran simulation 17\n",
      "Ran simulation 18\n",
      "Ran simulation 19\n",
      "Ran simulation 20\n",
      "Ran simulation 21\n",
      "Ran simulation 22\n",
      "Ran simulation 23\n",
      "Ran simulation 24\n",
      "Ran simulation 25\n",
      "Ran simulation 26\n",
      "Ran simulation 27\n",
      "Ran simulation 28\n",
      "Ran simulation 29\n"
     ]
    }
   ],
   "source": [
    "rng = np.random.default_rng(11235813)\n",
    "\n",
    "eps = 0\n",
    "M = 60\n",
    "minfriends = 3\n",
    "minbad = 5\n",
    "n_iter = 1000\n",
    "\n",
    "Xnps = []\n",
    "for i in range(30):\n",
    "    X = rng.uniform(size=(100,1)) < 0.3\n",
    "    Xnps.append(\n",
    "        run_sim(n_iter, X, eps, M, minfriends, minbad))\n",
    "    print(f\"Ran simulation {i}\")"
   ]
  },
  {
   "cell_type": "code",
   "execution_count": 233,
   "id": "b14e7efc-4791-4204-8b76-2b62ee9811cf",
   "metadata": {},
   "outputs": [
    {
     "data": {
      "text/plain": [
       "True"
      ]
     },
     "execution_count": 233,
     "metadata": {},
     "output_type": "execute_result"
    }
   ],
   "source": [
    "# skip first 50 rounds to give time to settle\n",
    "attendance = [np.where(Xnp[:,50:]) for Xnp in Xnps]\n",
    "ppl = [pd.Series(a[0]) for a in attendance]\n",
    "\n",
    "cnts = pd.DataFrame(index=range(100))\n",
    "for i in range(30):\n",
    "    cnts[i] = ppl[i].value_counts()\n",
    "    \n",
    "cnts.isna().all().all()"
   ]
  },
  {
   "cell_type": "markdown",
   "id": "10f29ada-bb90-4789-accd-edf6107a8477",
   "metadata": {},
   "source": [
    "Yup this is not stable unless it's way denser.\n",
    "Let's get my old data back"
   ]
  },
  {
   "cell_type": "code",
   "execution_count": 235,
   "id": "d4c7d7f9-c74d-4729-aa94-352e300a959e",
   "metadata": {},
   "outputs": [],
   "source": [
    "rng = np.random.default_rng(11235813)\n",
    "\n",
    "eps = 0\n",
    "M = 60\n",
    "minfriends = 2\n",
    "minbad = 5\n",
    "n_iter = 1000\n",
    "\n",
    "Xnps = []\n",
    "for i in range(30):\n",
    "    X = rng.uniform(size=(100,1)) < 0.3\n",
    "    Xnps.append(\n",
    "        run_sim(n_iter, X, eps, M, minfriends, minbad))\n",
    "\n",
    "# skip first 50 rounds to give time to settle\n",
    "attendance = [np.where(Xnp[:,50:]) for Xnp in Xnps]\n",
    "ppl = [pd.Series(a[0]) for a in attendance]\n",
    "\n",
    "cnts = pd.DataFrame(index=range(100))\n",
    "for i in range(30):\n",
    "    cnts[i] = ppl[i].value_counts()\n",
    "    \n",
    "cnts[\"Always\"] = (cnts==951).mean(axis=1)\n",
    "cnts[\"Sometimes\"] = (cnts < 951).mean(axis=1)\n",
    "cnts[\"Never\"] = cnts.isna().mean(axis=1)\n",
    "cnts[\"Degree\"] = pd.Series({node:val for (node, val) in G.degree()})\n",
    "cnts[\"Triangles\"] = pd.Series(nx.triangles(G))"
   ]
  },
  {
   "cell_type": "code",
   "execution_count": 243,
   "id": "d5f4826a-d654-4cad-b977-d6a134d5d5cc",
   "metadata": {},
   "outputs": [
    {
     "data": {
      "text/html": [
       "<div>\n",
       "<style scoped>\n",
       "    .dataframe tbody tr th:only-of-type {\n",
       "        vertical-align: middle;\n",
       "    }\n",
       "\n",
       "    .dataframe tbody tr th {\n",
       "        vertical-align: top;\n",
       "    }\n",
       "\n",
       "    .dataframe thead th {\n",
       "        text-align: right;\n",
       "    }\n",
       "</style>\n",
       "<table border=\"1\" class=\"dataframe\">\n",
       "  <thead>\n",
       "    <tr style=\"text-align: right;\">\n",
       "      <th></th>\n",
       "      <th>0</th>\n",
       "      <th>1</th>\n",
       "      <th>2</th>\n",
       "      <th>3</th>\n",
       "      <th>4</th>\n",
       "      <th>5</th>\n",
       "      <th>6</th>\n",
       "      <th>7</th>\n",
       "      <th>8</th>\n",
       "      <th>9</th>\n",
       "      <th>...</th>\n",
       "      <th>25</th>\n",
       "      <th>26</th>\n",
       "      <th>27</th>\n",
       "      <th>28</th>\n",
       "      <th>29</th>\n",
       "      <th>Always</th>\n",
       "      <th>Sometimes</th>\n",
       "      <th>Never</th>\n",
       "      <th>Degree</th>\n",
       "      <th>Triangles</th>\n",
       "    </tr>\n",
       "  </thead>\n",
       "  <tbody>\n",
       "    <tr>\n",
       "      <th>0</th>\n",
       "      <td>951.0</td>\n",
       "      <td>951.0</td>\n",
       "      <td>951.0</td>\n",
       "      <td>951.0</td>\n",
       "      <td>NaN</td>\n",
       "      <td>951.0</td>\n",
       "      <td>951.0</td>\n",
       "      <td>NaN</td>\n",
       "      <td>951.0</td>\n",
       "      <td>951.0</td>\n",
       "      <td>...</td>\n",
       "      <td>NaN</td>\n",
       "      <td>NaN</td>\n",
       "      <td>NaN</td>\n",
       "      <td>951.0</td>\n",
       "      <td>951.0</td>\n",
       "      <td>0.700000</td>\n",
       "      <td>0.032258</td>\n",
       "      <td>0.28125</td>\n",
       "      <td>9</td>\n",
       "      <td>9</td>\n",
       "    </tr>\n",
       "    <tr>\n",
       "      <th>1</th>\n",
       "      <td>951.0</td>\n",
       "      <td>951.0</td>\n",
       "      <td>951.0</td>\n",
       "      <td>951.0</td>\n",
       "      <td>NaN</td>\n",
       "      <td>951.0</td>\n",
       "      <td>951.0</td>\n",
       "      <td>NaN</td>\n",
       "      <td>951.0</td>\n",
       "      <td>951.0</td>\n",
       "      <td>...</td>\n",
       "      <td>NaN</td>\n",
       "      <td>NaN</td>\n",
       "      <td>NaN</td>\n",
       "      <td>951.0</td>\n",
       "      <td>951.0</td>\n",
       "      <td>0.700000</td>\n",
       "      <td>0.064516</td>\n",
       "      <td>0.25000</td>\n",
       "      <td>7</td>\n",
       "      <td>5</td>\n",
       "    </tr>\n",
       "    <tr>\n",
       "      <th>2</th>\n",
       "      <td>951.0</td>\n",
       "      <td>951.0</td>\n",
       "      <td>951.0</td>\n",
       "      <td>951.0</td>\n",
       "      <td>NaN</td>\n",
       "      <td>951.0</td>\n",
       "      <td>951.0</td>\n",
       "      <td>NaN</td>\n",
       "      <td>951.0</td>\n",
       "      <td>951.0</td>\n",
       "      <td>...</td>\n",
       "      <td>NaN</td>\n",
       "      <td>NaN</td>\n",
       "      <td>NaN</td>\n",
       "      <td>951.0</td>\n",
       "      <td>951.0</td>\n",
       "      <td>0.700000</td>\n",
       "      <td>0.032258</td>\n",
       "      <td>0.28125</td>\n",
       "      <td>5</td>\n",
       "      <td>4</td>\n",
       "    </tr>\n",
       "    <tr>\n",
       "      <th>3</th>\n",
       "      <td>951.0</td>\n",
       "      <td>951.0</td>\n",
       "      <td>951.0</td>\n",
       "      <td>951.0</td>\n",
       "      <td>NaN</td>\n",
       "      <td>951.0</td>\n",
       "      <td>951.0</td>\n",
       "      <td>NaN</td>\n",
       "      <td>951.0</td>\n",
       "      <td>951.0</td>\n",
       "      <td>...</td>\n",
       "      <td>NaN</td>\n",
       "      <td>476.0</td>\n",
       "      <td>NaN</td>\n",
       "      <td>951.0</td>\n",
       "      <td>951.0</td>\n",
       "      <td>0.700000</td>\n",
       "      <td>0.129032</td>\n",
       "      <td>0.18750</td>\n",
       "      <td>8</td>\n",
       "      <td>1</td>\n",
       "    </tr>\n",
       "    <tr>\n",
       "      <th>4</th>\n",
       "      <td>951.0</td>\n",
       "      <td>951.0</td>\n",
       "      <td>951.0</td>\n",
       "      <td>951.0</td>\n",
       "      <td>NaN</td>\n",
       "      <td>951.0</td>\n",
       "      <td>951.0</td>\n",
       "      <td>NaN</td>\n",
       "      <td>951.0</td>\n",
       "      <td>951.0</td>\n",
       "      <td>...</td>\n",
       "      <td>NaN</td>\n",
       "      <td>NaN</td>\n",
       "      <td>NaN</td>\n",
       "      <td>951.0</td>\n",
       "      <td>951.0</td>\n",
       "      <td>0.700000</td>\n",
       "      <td>0.032258</td>\n",
       "      <td>0.28125</td>\n",
       "      <td>6</td>\n",
       "      <td>3</td>\n",
       "    </tr>\n",
       "    <tr>\n",
       "      <th>...</th>\n",
       "      <td>...</td>\n",
       "      <td>...</td>\n",
       "      <td>...</td>\n",
       "      <td>...</td>\n",
       "      <td>...</td>\n",
       "      <td>...</td>\n",
       "      <td>...</td>\n",
       "      <td>...</td>\n",
       "      <td>...</td>\n",
       "      <td>...</td>\n",
       "      <td>...</td>\n",
       "      <td>...</td>\n",
       "      <td>...</td>\n",
       "      <td>...</td>\n",
       "      <td>...</td>\n",
       "      <td>...</td>\n",
       "      <td>...</td>\n",
       "      <td>...</td>\n",
       "      <td>...</td>\n",
       "      <td>...</td>\n",
       "      <td>...</td>\n",
       "    </tr>\n",
       "    <tr>\n",
       "      <th>95</th>\n",
       "      <td>951.0</td>\n",
       "      <td>NaN</td>\n",
       "      <td>475.0</td>\n",
       "      <td>NaN</td>\n",
       "      <td>NaN</td>\n",
       "      <td>951.0</td>\n",
       "      <td>951.0</td>\n",
       "      <td>NaN</td>\n",
       "      <td>NaN</td>\n",
       "      <td>951.0</td>\n",
       "      <td>...</td>\n",
       "      <td>951.0</td>\n",
       "      <td>951.0</td>\n",
       "      <td>NaN</td>\n",
       "      <td>475.0</td>\n",
       "      <td>NaN</td>\n",
       "      <td>0.366667</td>\n",
       "      <td>0.161290</td>\n",
       "      <td>0.46875</td>\n",
       "      <td>6</td>\n",
       "      <td>5</td>\n",
       "    </tr>\n",
       "    <tr>\n",
       "      <th>96</th>\n",
       "      <td>NaN</td>\n",
       "      <td>NaN</td>\n",
       "      <td>NaN</td>\n",
       "      <td>NaN</td>\n",
       "      <td>NaN</td>\n",
       "      <td>476.0</td>\n",
       "      <td>951.0</td>\n",
       "      <td>NaN</td>\n",
       "      <td>NaN</td>\n",
       "      <td>NaN</td>\n",
       "      <td>...</td>\n",
       "      <td>NaN</td>\n",
       "      <td>NaN</td>\n",
       "      <td>NaN</td>\n",
       "      <td>NaN</td>\n",
       "      <td>NaN</td>\n",
       "      <td>0.066667</td>\n",
       "      <td>0.096774</td>\n",
       "      <td>0.81250</td>\n",
       "      <td>5</td>\n",
       "      <td>3</td>\n",
       "    </tr>\n",
       "    <tr>\n",
       "      <th>97</th>\n",
       "      <td>NaN</td>\n",
       "      <td>NaN</td>\n",
       "      <td>NaN</td>\n",
       "      <td>NaN</td>\n",
       "      <td>NaN</td>\n",
       "      <td>475.0</td>\n",
       "      <td>475.0</td>\n",
       "      <td>NaN</td>\n",
       "      <td>NaN</td>\n",
       "      <td>NaN</td>\n",
       "      <td>...</td>\n",
       "      <td>NaN</td>\n",
       "      <td>NaN</td>\n",
       "      <td>NaN</td>\n",
       "      <td>NaN</td>\n",
       "      <td>NaN</td>\n",
       "      <td>0.033333</td>\n",
       "      <td>0.129032</td>\n",
       "      <td>0.81250</td>\n",
       "      <td>4</td>\n",
       "      <td>1</td>\n",
       "    </tr>\n",
       "    <tr>\n",
       "      <th>98</th>\n",
       "      <td>NaN</td>\n",
       "      <td>NaN</td>\n",
       "      <td>NaN</td>\n",
       "      <td>NaN</td>\n",
       "      <td>NaN</td>\n",
       "      <td>951.0</td>\n",
       "      <td>951.0</td>\n",
       "      <td>NaN</td>\n",
       "      <td>NaN</td>\n",
       "      <td>NaN</td>\n",
       "      <td>...</td>\n",
       "      <td>NaN</td>\n",
       "      <td>NaN</td>\n",
       "      <td>NaN</td>\n",
       "      <td>NaN</td>\n",
       "      <td>NaN</td>\n",
       "      <td>0.133333</td>\n",
       "      <td>0.032258</td>\n",
       "      <td>0.81250</td>\n",
       "      <td>7</td>\n",
       "      <td>4</td>\n",
       "    </tr>\n",
       "    <tr>\n",
       "      <th>99</th>\n",
       "      <td>NaN</td>\n",
       "      <td>NaN</td>\n",
       "      <td>NaN</td>\n",
       "      <td>NaN</td>\n",
       "      <td>NaN</td>\n",
       "      <td>NaN</td>\n",
       "      <td>951.0</td>\n",
       "      <td>NaN</td>\n",
       "      <td>NaN</td>\n",
       "      <td>NaN</td>\n",
       "      <td>...</td>\n",
       "      <td>NaN</td>\n",
       "      <td>NaN</td>\n",
       "      <td>NaN</td>\n",
       "      <td>NaN</td>\n",
       "      <td>NaN</td>\n",
       "      <td>0.100000</td>\n",
       "      <td>0.096774</td>\n",
       "      <td>0.78125</td>\n",
       "      <td>5</td>\n",
       "      <td>0</td>\n",
       "    </tr>\n",
       "  </tbody>\n",
       "</table>\n",
       "<p>100 rows × 35 columns</p>\n",
       "</div>"
      ],
      "text/plain": [
       "        0      1      2      3   4      5      6   7      8      9  ...  \\\n",
       "0   951.0  951.0  951.0  951.0 NaN  951.0  951.0 NaN  951.0  951.0  ...   \n",
       "1   951.0  951.0  951.0  951.0 NaN  951.0  951.0 NaN  951.0  951.0  ...   \n",
       "2   951.0  951.0  951.0  951.0 NaN  951.0  951.0 NaN  951.0  951.0  ...   \n",
       "3   951.0  951.0  951.0  951.0 NaN  951.0  951.0 NaN  951.0  951.0  ...   \n",
       "4   951.0  951.0  951.0  951.0 NaN  951.0  951.0 NaN  951.0  951.0  ...   \n",
       "..    ...    ...    ...    ...  ..    ...    ...  ..    ...    ...  ...   \n",
       "95  951.0    NaN  475.0    NaN NaN  951.0  951.0 NaN    NaN  951.0  ...   \n",
       "96    NaN    NaN    NaN    NaN NaN  476.0  951.0 NaN    NaN    NaN  ...   \n",
       "97    NaN    NaN    NaN    NaN NaN  475.0  475.0 NaN    NaN    NaN  ...   \n",
       "98    NaN    NaN    NaN    NaN NaN  951.0  951.0 NaN    NaN    NaN  ...   \n",
       "99    NaN    NaN    NaN    NaN NaN    NaN  951.0 NaN    NaN    NaN  ...   \n",
       "\n",
       "       25     26  27     28     29    Always  Sometimes    Never  Degree  \\\n",
       "0     NaN    NaN NaN  951.0  951.0  0.700000   0.032258  0.28125       9   \n",
       "1     NaN    NaN NaN  951.0  951.0  0.700000   0.064516  0.25000       7   \n",
       "2     NaN    NaN NaN  951.0  951.0  0.700000   0.032258  0.28125       5   \n",
       "3     NaN  476.0 NaN  951.0  951.0  0.700000   0.129032  0.18750       8   \n",
       "4     NaN    NaN NaN  951.0  951.0  0.700000   0.032258  0.28125       6   \n",
       "..    ...    ...  ..    ...    ...       ...        ...      ...     ...   \n",
       "95  951.0  951.0 NaN  475.0    NaN  0.366667   0.161290  0.46875       6   \n",
       "96    NaN    NaN NaN    NaN    NaN  0.066667   0.096774  0.81250       5   \n",
       "97    NaN    NaN NaN    NaN    NaN  0.033333   0.129032  0.81250       4   \n",
       "98    NaN    NaN NaN    NaN    NaN  0.133333   0.032258  0.81250       7   \n",
       "99    NaN    NaN NaN    NaN    NaN  0.100000   0.096774  0.78125       5   \n",
       "\n",
       "    Triangles  \n",
       "0           9  \n",
       "1           5  \n",
       "2           4  \n",
       "3           1  \n",
       "4           3  \n",
       "..        ...  \n",
       "95          5  \n",
       "96          3  \n",
       "97          1  \n",
       "98          4  \n",
       "99          0  \n",
       "\n",
       "[100 rows x 35 columns]"
      ]
     },
     "execution_count": 243,
     "metadata": {},
     "output_type": "execute_result"
    }
   ],
   "source": [
    "cnts"
   ]
  },
  {
   "cell_type": "code",
   "execution_count": 246,
   "id": "0f6e3394-0210-4389-9c7e-0c9ff30331f8",
   "metadata": {},
   "outputs": [
    {
     "data": {
      "text/html": [
       "<div>\n",
       "<style scoped>\n",
       "    .dataframe tbody tr th:only-of-type {\n",
       "        vertical-align: middle;\n",
       "    }\n",
       "\n",
       "    .dataframe tbody tr th {\n",
       "        vertical-align: top;\n",
       "    }\n",
       "\n",
       "    .dataframe thead th {\n",
       "        text-align: right;\n",
       "    }\n",
       "</style>\n",
       "<table border=\"1\" class=\"dataframe\">\n",
       "  <thead>\n",
       "    <tr style=\"text-align: right;\">\n",
       "      <th></th>\n",
       "      <th>Always</th>\n",
       "      <th>Triangles</th>\n",
       "      <th>Degree</th>\n",
       "    </tr>\n",
       "  </thead>\n",
       "  <tbody>\n",
       "    <tr>\n",
       "      <th>Always</th>\n",
       "      <td>1.000000</td>\n",
       "      <td>0.726653</td>\n",
       "      <td>0.577859</td>\n",
       "    </tr>\n",
       "    <tr>\n",
       "      <th>Triangles</th>\n",
       "      <td>0.726653</td>\n",
       "      <td>1.000000</td>\n",
       "      <td>0.606032</td>\n",
       "    </tr>\n",
       "    <tr>\n",
       "      <th>Degree</th>\n",
       "      <td>0.577859</td>\n",
       "      <td>0.606032</td>\n",
       "      <td>1.000000</td>\n",
       "    </tr>\n",
       "  </tbody>\n",
       "</table>\n",
       "</div>"
      ],
      "text/plain": [
       "             Always  Triangles    Degree\n",
       "Always     1.000000   0.726653  0.577859\n",
       "Triangles  0.726653   1.000000  0.606032\n",
       "Degree     0.577859   0.606032  1.000000"
      ]
     },
     "execution_count": 246,
     "metadata": {},
     "output_type": "execute_result"
    }
   ],
   "source": [
    "cnts[[\"Always\", \"Triangles\", \"Degree\"]].corr()"
   ]
  },
  {
   "cell_type": "code",
   "execution_count": 248,
   "id": "6ac48105-056b-4f23-b5a8-fb689d2eab8b",
   "metadata": {},
   "outputs": [
    {
     "data": {
      "text/plain": [
       "<AxesSubplot:xlabel='Triangles', ylabel='Always'>"
      ]
     },
     "execution_count": 248,
     "metadata": {},
     "output_type": "execute_result"
    },
    {
     "data": {
      "image/png": "[encoded data removed]",
      "text/plain": [
       "<Figure size 432x288 with 1 Axes>"
      ]
     },
     "metadata": {
      "needs_background": "light"
     },
     "output_type": "display_data"
    }
   ],
   "source": [
    "cnts.plot(kind=\"scatter\", x=\"Triangles\", y=\"Always\")"
   ]
  },
  {
   "cell_type": "markdown",
   "id": "298ce652-5553-40da-b737-42f12d85d62b",
   "metadata": {},
   "source": [
    "More triangles --> More attendance\n",
    "\n",
    "There isn't going to be a nice formula here I don't think.  But can we relate the number of triangles in the I.C. to the eventual state?"
   ]
  },
  {
   "cell_type": "code",
   "execution_count": 256,
   "id": "2ef2267c-ee41-4e87-aaaf-1da511bda2cf",
   "metadata": {},
   "outputs": [
    {
     "data": {
      "text/plain": [
       "{2: 0,\n",
       " 7: 0,\n",
       " 8: 0,\n",
       " 13: 0,\n",
       " 14: 0,\n",
       " 17: 0,\n",
       " 22: 0,\n",
       " 23: 0,\n",
       " 26: 0,\n",
       " 31: 0,\n",
       " 33: 0,\n",
       " 39: 0,\n",
       " 42: 0,\n",
       " 43: 0,\n",
       " 47: 0,\n",
       " 49: 0,\n",
       " 51: 0,\n",
       " 53: 0,\n",
       " 54: 0,\n",
       " 59: 0,\n",
       " 60: 0,\n",
       " 69: 0,\n",
       " 71: 3,\n",
       " 72: 0,\n",
       " 73: 4,\n",
       " 77: 1,\n",
       " 89: 3,\n",
       " 90: 0,\n",
       " 91: 0,\n",
       " 95: 4}"
      ]
     },
     "execution_count": 256,
     "metadata": {},
     "output_type": "execute_result"
    }
   ],
   "source": [
    "nx.triangles(G.subgraph(np.where(Xnps[0][:,0])[0]))"
   ]
  },
  {
   "cell_type": "code",
   "execution_count": 258,
   "id": "0ec93fd8-cecc-4253-b8d9-2681a8ff5a5a",
   "metadata": {},
   "outputs": [
    {
     "data": {
      "text/plain": [
       "{1: 1,\n",
       " 3: 1,\n",
       " 7: 0,\n",
       " 8: 0,\n",
       " 10: 0,\n",
       " 14: 1,\n",
       " 19: 0,\n",
       " 20: 0,\n",
       " 21: 0,\n",
       " 25: 0,\n",
       " 27: 0,\n",
       " 30: 0,\n",
       " 31: 0,\n",
       " 41: 0,\n",
       " 46: 0,\n",
       " 48: 0,\n",
       " 50: 0,\n",
       " 54: 0,\n",
       " 55: 0,\n",
       " 58: 0,\n",
       " 65: 0,\n",
       " 73: 0,\n",
       " 74: 0,\n",
       " 75: 0,\n",
       " 89: 0,\n",
       " 92: 0,\n",
       " 94: 0,\n",
       " 98: 0}"
      ]
     },
     "execution_count": 258,
     "metadata": {},
     "output_type": "execute_result"
    }
   ],
   "source": [
    "nx.triangles(G.subgraph(np.where(Xnps[2][:,0])[0]))"
   ]
  },
  {
   "cell_type": "code",
   "execution_count": 264,
   "id": "3b117cee-0cad-404c-9d2c-0241722d8504",
   "metadata": {},
   "outputs": [
    {
     "data": {
      "text/html": [
       "<div>\n",
       "<style scoped>\n",
       "    .dataframe tbody tr th:only-of-type {\n",
       "        vertical-align: middle;\n",
       "    }\n",
       "\n",
       "    .dataframe tbody tr th {\n",
       "        vertical-align: top;\n",
       "    }\n",
       "\n",
       "    .dataframe thead th {\n",
       "        text-align: right;\n",
       "    }\n",
       "</style>\n",
       "<table border=\"1\" class=\"dataframe\">\n",
       "  <thead>\n",
       "    <tr style=\"text-align: right;\">\n",
       "      <th></th>\n",
       "      <th>Always</th>\n",
       "      <th>Triangles</th>\n",
       "      <th>eigenvec</th>\n",
       "    </tr>\n",
       "  </thead>\n",
       "  <tbody>\n",
       "    <tr>\n",
       "      <th>Always</th>\n",
       "      <td>1.000000</td>\n",
       "      <td>0.726653</td>\n",
       "      <td>0.900292</td>\n",
       "    </tr>\n",
       "    <tr>\n",
       "      <th>Triangles</th>\n",
       "      <td>0.726653</td>\n",
       "      <td>1.000000</td>\n",
       "      <td>0.677659</td>\n",
       "    </tr>\n",
       "    <tr>\n",
       "      <th>eigenvec</th>\n",
       "      <td>0.900292</td>\n",
       "      <td>0.677659</td>\n",
       "      <td>1.000000</td>\n",
       "    </tr>\n",
       "  </tbody>\n",
       "</table>\n",
       "</div>"
      ],
      "text/plain": [
       "             Always  Triangles  eigenvec\n",
       "Always     1.000000   0.726653  0.900292\n",
       "Triangles  0.726653   1.000000  0.677659\n",
       "eigenvec   0.900292   0.677659  1.000000"
      ]
     },
     "execution_count": 264,
     "metadata": {},
     "output_type": "execute_result"
    }
   ],
   "source": [
    "cnts[\"eigenvec\"] = pd.Series(nx.algorithms.centrality.eigenvector_centrality(G))\n",
    "cnts[[\"Always\", \"Triangles\", \"eigenvec\"]].corr()"
   ]
  },
  {
   "cell_type": "code",
   "execution_count": 265,
   "id": "71bdaa56-ca78-456b-b563-eb1e0623f13c",
   "metadata": {},
   "outputs": [
    {
     "data": {
      "text/plain": [
       "<AxesSubplot:xlabel='eigenvec', ylabel='Always'>"
      ]
     },
     "execution_count": 265,
     "metadata": {},
     "output_type": "execute_result"
    },
    {
     "data": {
      "image/png": "[encoded data removed]",
      "text/plain": [
       "<Figure size 432x288 with 1 Axes>"
      ]
     },
     "metadata": {
      "needs_background": "light"
     },
     "output_type": "display_data"
    }
   ],
   "source": [
    "cnts.plot(kind=\"scatter\", x='eigenvec', y=\"Always\")"
   ]
  },
  {
   "cell_type": "markdown",
   "id": "5a438b1b-126a-403f-acf6-bb276dfc9126",
   "metadata": {},
   "source": [
    "Okay so eigenvector centrality is the most strongly correlated with Always going.  This isn't surprising.  Does it hold up on other networks?  Specifically ones with larger and more distinct communities?\n",
    "\n",
    "Also there are so many ideas.  I can't follow all of them.\n",
    "\n",
    "Take a step back and think some more.\n",
    "\n",
    "1. There are a lot of potential fixed points but most are not attractors in the cold, deterministic system.\n",
    "2. Adding noise to the system potentially makes it easier to settle near fixed points (more attendance... no longer true fixed points but they should be attractors now).\n",
    "3. Noise can lead to jumps into higher utility states.  Sometimes this takes a long time.\n",
    "4. Evolution?\n",
    "5. No communities?  Maybe shoulda tried this first.\n",
    "6. Density"
   ]
  },
  {
   "cell_type": "code",
   "execution_count": 267,
   "id": "4a14d39e-32e7-4ba8-ab2a-97247bb5b9ce",
   "metadata": {},
   "outputs": [
    {
     "data": {
      "text/plain": [
       "5.36"
      ]
     },
     "execution_count": 267,
     "metadata": {},
     "output_type": "execute_result"
    }
   ],
   "source": [
    "cnts.Degree.mean()"
   ]
  },
  {
   "cell_type": "code",
   "execution_count": 268,
   "id": "d94ad7c9-3c30-47bd-90ec-5806a25d97f6",
   "metadata": {},
   "outputs": [
    {
     "data": {
      "text/plain": [
       "<AxesSubplot:>"
      ]
     },
     "execution_count": 268,
     "metadata": {},
     "output_type": "execute_result"
    },
    {
     "data": {
      "image/png": "[encoded data removed]",
      "text/plain": [
       "<Figure size 432x288 with 2 Axes>"
      ]
     },
     "metadata": {
      "needs_background": "light"
     },
     "output_type": "display_data"
    }
   ],
   "source": [
    "sns.heatmap(cnts[cnts.columns[:30]].fillna(0).corr())"
   ]
  },
  {
   "cell_type": "code",
   "execution_count": 269,
   "id": "edf21626-07ec-4858-951e-051681acba5a",
   "metadata": {},
   "outputs": [
    {
     "ename": "ValueError",
     "evalue": "continuous format is not supported",
     "output_type": "error",
     "traceback": [
      "\u001b[0;31m---------------------------------------------------------------------------\u001b[0m",
      "\u001b[0;31mValueError\u001b[0m                                Traceback (most recent call last)",
      "\u001b[0;32m<ipython-input-269-a5d1ebaf242f>\u001b[0m in \u001b[0;36m<module>\u001b[0;34m\u001b[0m\n\u001b[1;32m      1\u001b[0m \u001b[0;32mfrom\u001b[0m \u001b[0msklearn\u001b[0m\u001b[0;34m.\u001b[0m\u001b[0mmetrics\u001b[0m \u001b[0;32mimport\u001b[0m \u001b[0mroc_auc_score\u001b[0m\u001b[0;34m\u001b[0m\u001b[0;34m\u001b[0m\u001b[0m\n\u001b[1;32m      2\u001b[0m \u001b[0;34m\u001b[0m\u001b[0m\n\u001b[0;32m----> 3\u001b[0;31m \u001b[0mroc_auc_score\u001b[0m\u001b[0;34m(\u001b[0m\u001b[0mcnts\u001b[0m\u001b[0;34m.\u001b[0m\u001b[0mAlways\u001b[0m\u001b[0;34m,\u001b[0m \u001b[0mcnts\u001b[0m\u001b[0;34m.\u001b[0m\u001b[0meigenvec\u001b[0m\u001b[0;34m)\u001b[0m\u001b[0;34m\u001b[0m\u001b[0;34m\u001b[0m\u001b[0m\n\u001b[0m",
      "\u001b[0;32m~/.pyenv/versions/3.9.5/envs/jupyter/lib/python3.9/site-packages/sklearn/metrics/_ranking.py\u001b[0m in \u001b[0;36mroc_auc_score\u001b[0;34m(y_true, y_score, average, sample_weight, max_fpr, multi_class, labels)\u001b[0m\n\u001b[1;32m    572\u001b[0m         )\n\u001b[1;32m    573\u001b[0m     \u001b[0;32melse\u001b[0m\u001b[0;34m:\u001b[0m  \u001b[0;31m# multilabel-indicator\u001b[0m\u001b[0;34m\u001b[0m\u001b[0;34m\u001b[0m\u001b[0m\n\u001b[0;32m--> 574\u001b[0;31m         return _average_binary_score(\n\u001b[0m\u001b[1;32m    575\u001b[0m             \u001b[0mpartial\u001b[0m\u001b[0;34m(\u001b[0m\u001b[0m_binary_roc_auc_score\u001b[0m\u001b[0;34m,\u001b[0m \u001b[0mmax_fpr\u001b[0m\u001b[0;34m=\u001b[0m\u001b[0mmax_fpr\u001b[0m\u001b[0;34m)\u001b[0m\u001b[0;34m,\u001b[0m\u001b[0;34m\u001b[0m\u001b[0;34m\u001b[0m\u001b[0m\n\u001b[1;32m    576\u001b[0m             \u001b[0my_true\u001b[0m\u001b[0;34m,\u001b[0m\u001b[0;34m\u001b[0m\u001b[0;34m\u001b[0m\u001b[0m\n",
      "\u001b[0;32m~/.pyenv/versions/3.9.5/envs/jupyter/lib/python3.9/site-packages/sklearn/metrics/_base.py\u001b[0m in \u001b[0;36m_average_binary_score\u001b[0;34m(binary_metric, y_true, y_score, average, sample_weight)\u001b[0m\n\u001b[1;32m     70\u001b[0m     \u001b[0my_type\u001b[0m \u001b[0;34m=\u001b[0m \u001b[0mtype_of_target\u001b[0m\u001b[0;34m(\u001b[0m\u001b[0my_true\u001b[0m\u001b[0;34m)\u001b[0m\u001b[0;34m\u001b[0m\u001b[0;34m\u001b[0m\u001b[0m\n\u001b[1;32m     71\u001b[0m     \u001b[0;32mif\u001b[0m \u001b[0my_type\u001b[0m \u001b[0;32mnot\u001b[0m \u001b[0;32min\u001b[0m \u001b[0;34m(\u001b[0m\u001b[0;34m\"binary\"\u001b[0m\u001b[0;34m,\u001b[0m \u001b[0;34m\"multilabel-indicator\"\u001b[0m\u001b[0;34m)\u001b[0m\u001b[0;34m:\u001b[0m\u001b[0;34m\u001b[0m\u001b[0;34m\u001b[0m\u001b[0m\n\u001b[0;32m---> 72\u001b[0;31m         \u001b[0;32mraise\u001b[0m \u001b[0mValueError\u001b[0m\u001b[0;34m(\u001b[0m\u001b[0;34m\"{0} format is not supported\"\u001b[0m\u001b[0;34m.\u001b[0m\u001b[0mformat\u001b[0m\u001b[0;34m(\u001b[0m\u001b[0my_type\u001b[0m\u001b[0;34m)\u001b[0m\u001b[0;34m)\u001b[0m\u001b[0;34m\u001b[0m\u001b[0;34m\u001b[0m\u001b[0m\n\u001b[0m\u001b[1;32m     73\u001b[0m \u001b[0;34m\u001b[0m\u001b[0m\n\u001b[1;32m     74\u001b[0m     \u001b[0;32mif\u001b[0m \u001b[0my_type\u001b[0m \u001b[0;34m==\u001b[0m \u001b[0;34m\"binary\"\u001b[0m\u001b[0;34m:\u001b[0m\u001b[0;34m\u001b[0m\u001b[0;34m\u001b[0m\u001b[0m\n",
      "\u001b[0;31mValueError\u001b[0m: continuous format is not supported"
     ]
    }
   ],
   "source": [
    "from sklearn.metrics import roc_auc_score\n",
    "\n",
    "roc_auc_score(cnts.Always, cnts.eigenvec)"
   ]
  },
  {
   "cell_type": "code",
   "execution_count": null,
   "id": "163dbd8f-08ca-4a0d-a05f-7bab7b2c80d7",
   "metadata": {},
   "outputs": [],
   "source": []
  },
  {
   "cell_type": "markdown",
   "id": "6ac6be47-d8be-41c0-b626-19b6cb5de092",
   "metadata": {},
   "source": [
    "Xnps"
   ]
  }
 ],
 "metadata": {
  "kernelspec": {
   "display_name": "Python 3",
   "language": "python",
   "name": "python3"
  },
  "language_info": {
   "codemirror_mode": {
    "name": "ipython",
    "version": 3
   },
   "file_extension": ".py",
   "mimetype": "text/x-python",
   "name": "python",
   "nbconvert_exporter": "python",
   "pygments_lexer": "ipython3",
   "version": "3.9.5"
  }
 },
 "nbformat": 4,
 "nbformat_minor": 5
}
