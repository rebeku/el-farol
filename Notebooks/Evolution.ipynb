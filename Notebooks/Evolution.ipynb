{
 "cells": [
  {
   "cell_type": "markdown",
   "id": "9c59c12b-116e-467e-892b-b5b1973c1123",
   "metadata": {},
   "source": [
    "Now let's see what happens when there are multiple strategies.  How will this work?\n",
    "\n",
    "If you are regularly going with your friends and it's not too crowded don't change.\n",
    "\n",
    "Possible moves to shake things up:\n",
    "\n",
    "1. Go based on decision k weeks ago instead of last week-- this could converge to equilibrium with alternating groups.\n",
    "2. \"Invite your friends\"-- all go as a block once.  Then return to the regularly scheduled rule.  Let's skip this for now-- more complicated to implement.\n",
    "3.  Adjust alpha, beta, epsilon.\n",
    "\n",
    "With some small probability, mutate randomly.  If dissatisfied, you don't want to just pick from your friends' strategies because optimal strategy will depend on degree.  Maybe-- pick the best strategy from nodes with the same degree or closest degree to you."
   ]
  },
  {
   "cell_type": "code",
   "execution_count": 3,
   "id": "1f26bbb3-315d-4a88-86b2-06ca582ebb2d",
   "metadata": {},
   "outputs": [
    {
     "data": {
      "text/plain": [
       "<matplotlib.collections.LineCollection at 0x11bf2df40>"
      ]
     },
     "execution_count": 3,
     "metadata": {},
     "output_type": "execute_result"
    },
    {
     "data": {
      "image/png": "[encoded data removed]",
      "text/plain": [
       "<Figure size 432x288 with 1 Axes>"
      ]
     },
     "metadata": {},
     "output_type": "display_data"
    }
   ],
   "source": [
    "from matplotlib import pyplot as plt\n",
    "from matplotlib import animation\n",
    "\n",
    "import networkx as nx\n",
    "import numpy as np\n",
    "import numpy.ma as ma\n",
    "import pandas as pd\n",
    "\n",
    "\n",
    "sizes = [20, 50, 30]\n",
    "probs = [[0.25,0.01, 0.01], [0.01, 0.1, 0.01], [0.01, 0.01, 1/6]]\n",
    "G = nx.stochastic_block_model(sizes, probs, seed=30)\n",
    "A = nx.convert_matrix.to_numpy_matrix(G)\n",
    "\n",
    "pos = nx.spring_layout(G, seed=3113794652)\n",
    "nx.draw_networkx_nodes(G, pos, nodelist=range(0,sizes[0]), node_color=\"tab:red\")\n",
    "nx.draw_networkx_nodes(G, pos, nodelist=range(sizes[0], sizes[0]+sizes[1]), node_color=\"tab:blue\")\n",
    "nx.draw_networkx_nodes(G, pos, nodelist=range(sizes[0]+sizes[1], 100), node_color=\"tab:orange\")\n",
    "nx.draw_networkx_edges(G, pos)"
   ]
  },
  {
   "cell_type": "code",
   "execution_count": 88,
   "id": "66585858-1532-45e7-8f6b-b92ce775b1b3",
   "metadata": {},
   "outputs": [],
   "source": [
    "rng = np.random.default_rng(98765)\n",
    "\n",
    "# track all the different parameters at each timestep.\n",
    "N = 100\n",
    "M = 60\n",
    "n_trials = 1000\n",
    "memory_length = 5\n",
    "\n",
    "\n",
    "# minimum number of friends who went last time if it wasn't full\n",
    "alphas = np.ones((N, n_trials), dtype=int) * 2 \n",
    "# minimum number of friends who went last time if it was too full\n",
    "betas = np.ones((N, n_trials), dtype=int) * 5\n",
    "# weeks back to look when making decision\n",
    "gammas = np.ones((N, n_trials), dtype=int) * -1\n",
    "# random probability of going\n",
    "epsilons = np.ones((N, n_trials)) * 0.03\n",
    "# random probability of not going\n",
    "# nonzero delta could completely destabilize an arrangement\n",
    "# I think?\n",
    "deltas = np.zeros((N, n_trials)) \n",
    "\n",
    "# each node needs to remember the last k weeks\n",
    "# options- we could target interventions to particular \n",
    "# circumstances, e.g. reduce minfriends if you are never going\n",
    "# or we could just let things evolve randomly\n",
    "# let's start with random because yolo\n",
    "memory = np.full((N, memory_length), np.nan)\n",
    "\n",
    "# initial conditions\n",
    "Xnp = np.full((N, n_trials), np.nan)\n",
    "X = rng.uniform(size=(100,)) < 0.3\n",
    "Xnp[:,0] = X\n",
    "\n",
    "# track previous weeks' neighbor counts to avoid\n",
    "# redoing multiplication\n",
    "nc = np.full((N, n_trials), np.nan)"
   ]
  },
  {
   "cell_type": "code",
   "execution_count": 137,
   "id": "afbaf4c5-fdac-45c5-a451-cdddaa9d3e5f",
   "metadata": {},
   "outputs": [],
   "source": [
    "def apply_thresholds(params, t, X, nc):\n",
    "    for p in np.unique(params[:, t]):\n",
    "        mask = np.where(params[:,t] == p)\n",
    "        X[mask] = nc[mask, t] > p\n",
    "        \n",
    "\n",
    "# start by just running the first round of the simulation\n",
    "t = 0\n",
    "\n",
    "# number of neighbors that went last week\n",
    "nc[:,t] = A.dot(X)\n",
    "\n",
    "\n",
    "if X.sum() < M:\n",
    "    apply_thresholds(alphas, t, X, nc)\n",
    "else:\n",
    "    apply_thresholds(betas, t, X, nc)\n",
    "    \n",
    "# add noise\n",
    "X += rng.uniform(size=N) > epsilons[:,t]\n",
    "X = np.bitwise_xor(X, rng.uniform(size=N) > deltas[:,t])\n",
    "\n",
    "t += 1\n",
    "Xnp[:,0] = X"
   ]
  },
  {
   "cell_type": "code",
   "execution_count": 138,
   "id": "29a87c7d-fc12-400e-8c19-faff833025f8",
   "metadata": {},
   "outputs": [
    {
     "data": {
      "text/plain": [
       "array([0., 0., 0., 0., 0., 0., 0., 0., 0., 0., 0., 0., 0., 0., 0., 0., 0.,\n",
       "       0., 0., 0., 0., 0., 0., 0., 0., 0., 0., 0., 0., 0., 0., 0., 0., 0.,\n",
       "       0., 0., 0., 0., 0., 0., 0., 0., 0., 0., 0., 0., 0., 0., 0., 0., 0.,\n",
       "       0., 0., 0., 0., 0., 0., 0., 0., 0., 0., 0., 0., 0., 0., 0., 0., 0.,\n",
       "       0., 0., 0., 0., 0., 0., 0., 0., 0., 0., 0., 0., 0., 0., 0., 0., 0.,\n",
       "       0., 0., 0., 0., 0., 0., 0., 0., 0., 0., 0., 0., 0., 0., 0.])"
      ]
     },
     "execution_count": 138,
     "metadata": {},
     "output_type": "execute_result"
    }
   ],
   "source": [
    "deltas[:,t]"
   ]
  },
  {
   "cell_type": "code",
   "execution_count": 132,
   "id": "a88fabb8-2191-4537-9db3-e850190957e2",
   "metadata": {},
   "outputs": [
    {
     "data": {
      "text/plain": [
       "array([0.03, 0.03, 0.03, 0.03, 0.03, 0.03, 0.03, 0.03, 0.03, 0.03, 0.03,\n",
       "       0.03, 0.03, 0.03, 0.03, 0.03, 0.03, 0.03, 0.03, 0.03, 0.03, 0.03,\n",
       "       0.03, 0.03, 0.03, 0.03, 0.03, 0.03, 0.03, 0.03, 0.03, 0.03, 0.03,\n",
       "       0.03, 0.03, 0.03, 0.03, 0.03, 0.03, 0.03, 0.03, 0.03, 0.03, 0.03,\n",
       "       0.03, 0.03, 0.03, 0.03, 0.03, 0.03, 0.03, 0.03, 0.03, 0.03, 0.03,\n",
       "       0.03, 0.03, 0.03, 0.03, 0.03, 0.03, 0.03, 0.03, 0.03, 0.03, 0.03,\n",
       "       0.03, 0.03, 0.03, 0.03, 0.03, 0.03, 0.03, 0.03, 0.03, 0.03, 0.03,\n",
       "       0.03, 0.03, 0.03, 0.03, 0.03, 0.03, 0.03, 0.03, 0.03, 0.03, 0.03,\n",
       "       0.03, 0.03, 0.03, 0.03, 0.03, 0.03, 0.03, 0.03, 0.03, 0.03, 0.03,\n",
       "       0.03])"
      ]
     },
     "execution_count": 132,
     "metadata": {},
     "output_type": "execute_result"
    }
   ],
   "source": [
    "epsilons[:,t]"
   ]
  },
  {
   "cell_type": "code",
   "execution_count": 135,
   "id": "ef76ed22-6686-4d0a-a170-e24ebbd0f32f",
   "metadata": {},
   "outputs": [
    {
     "data": {
      "text/plain": [
       "array([False,  True,  True,  True,  True,  True,  True,  True,  True,\n",
       "        True,  True,  True,  True,  True,  True,  True,  True,  True,\n",
       "        True,  True,  True,  True,  True,  True,  True,  True,  True,\n",
       "        True,  True,  True,  True,  True,  True,  True,  True,  True,\n",
       "        True,  True,  True,  True,  True,  True,  True,  True,  True,\n",
       "        True,  True,  True,  True,  True,  True,  True,  True,  True,\n",
       "        True,  True,  True,  True,  True,  True,  True,  True,  True,\n",
       "        True,  True,  True,  True,  True,  True,  True,  True,  True,\n",
       "        True,  True,  True,  True,  True,  True,  True,  True,  True,\n",
       "        True,  True,  True,  True,  True,  True,  True,  True,  True,\n",
       "        True,  True,  True,  True,  True,  True,  True,  True,  True,\n",
       "        True])"
      ]
     },
     "execution_count": 135,
     "metadata": {},
     "output_type": "execute_result"
    }
   ],
   "source": [
    "(rng.uniform(size=N) > epsilons[:,t])"
   ]
  },
  {
   "cell_type": "code",
   "execution_count": 83,
   "id": "7bed42ab-f6a0-409d-b861-cfa03c7d107a",
   "metadata": {
    "tags": []
   },
   "outputs": [
    {
     "name": "stdout",
     "output_type": "stream",
     "text": [
      "2\n"
     ]
    }
   ],
   "source": [
    "params = alphas\n",
    "\n",
    "for p in np.unique(params[:, t]):\n",
    "    print(p)"
   ]
  },
  {
   "cell_type": "code",
   "execution_count": null,
   "id": "84cd6c74-ec9f-4097-8d5d-9e8e08b4803a",
   "metadata": {},
   "outputs": [],
   "source": []
  },
  {
   "cell_type": "code",
   "execution_count": 58,
   "id": "477c8aa7-aeac-41d8-8d89-6287dbd9da40",
   "metadata": {},
   "outputs": [],
   "source": [
    "alphas = np.ones((N, n_trials), dtype=int) * 2 \n",
    "alphas[50:, :] = 3\n",
    "\n",
    "print(X)\n",
    "print(\"\\n\")\n",
    "\n",
    "# number of neighbors that went last week\n",
    "nc[:,t] = A.dot(X)\n",
    "apply_thresholds(alphas, t, X, nc)\n",
    "print(X)"
   ]
  },
  {
   "cell_type": "code",
   "execution_count": 54,
   "id": "9907ac9e-5450-43d6-940c-d7ae17b3a0eb",
   "metadata": {},
   "outputs": [
    {
     "data": {
      "text/plain": [
       "array([False, False, False, False, False,  True, False, False,  True,\n",
       "       False,  True, False, False, False,  True, False, False, False,\n",
       "       False, False, False, False,  True,  True, False, False,  True,\n",
       "       False, False, False,  True,  True, False,  True, False,  True,\n",
       "       False, False, False,  True,  True,  True, False, False, False,\n",
       "       False, False, False, False, False, False,  True, False, False,\n",
       "        True, False, False, False, False, False,  True, False,  True,\n",
       "       False, False, False,  True, False,  True, False, False,  True,\n",
       "        True, False, False, False, False, False, False, False, False,\n",
       "       False, False, False,  True, False, False, False,  True, False,\n",
       "        True,  True, False, False,  True,  True, False, False, False,\n",
       "       False])"
      ]
     },
     "execution_count": 54,
     "metadata": {},
     "output_type": "execute_result"
    }
   ],
   "source": []
  },
  {
   "cell_type": "code",
   "execution_count": 1,
   "id": "e3e9671e-ce67-4503-a4a1-1924aabe0acd",
   "metadata": {},
   "outputs": [],
   "source": [
    "def run_sim(n_iter, X, eps, M, minfriends, minbad):\n",
    "    Xs = [X]\n",
    "    for _ in range(n_iter):\n",
    "        if X.sum() < M:\n",
    "            # go if enough of your friends went last week\n",
    "            # whether or not you went\n",
    "            X = (A.dot(X) > minfriends)\n",
    "        else:\n",
    "            X = (A.dot(X) > minbad)\n",
    "            \n",
    "        # this is okay because X is an array of booleans\n",
    "        X += rng.uniform(size=(100,1)) < eps\n",
    "        Xs.append(X)\n",
    "\n",
    "    return np.hstack(Xs)"
   ]
  },
  {
   "cell_type": "code",
   "execution_count": null,
   "id": "885f7f25-a456-42ba-ac28-cd83621dff09",
   "metadata": {},
   "outputs": [],
   "source": []
  },
  {
   "cell_type": "code",
   "execution_count": null,
   "id": "3172b33a-00de-48b9-8104-af8cd3062bd9",
   "metadata": {},
   "outputs": [],
   "source": []
  },
  {
   "cell_type": "code",
   "execution_count": null,
   "id": "f7406424-484f-4d46-aedf-e60b7d01f40d",
   "metadata": {},
   "outputs": [],
   "source": []
  },
  {
   "cell_type": "code",
   "execution_count": null,
   "id": "6d2ca4d0-3355-47f7-a567-88d95cd8ef4d",
   "metadata": {},
   "outputs": [],
   "source": []
  },
  {
   "cell_type": "code",
   "execution_count": null,
   "id": "8474e761-178e-42c9-9804-e0b117286764",
   "metadata": {},
   "outputs": [],
   "source": []
  },
  {
   "cell_type": "code",
   "execution_count": null,
   "id": "951c9a98-e518-42ba-a7c9-5cde00068ede",
   "metadata": {},
   "outputs": [],
   "source": []
  },
  {
   "cell_type": "code",
   "execution_count": null,
   "id": "3c101586-bbd5-4f40-9d3e-a3c2d21bf24a",
   "metadata": {},
   "outputs": [],
   "source": []
  },
  {
   "cell_type": "code",
   "execution_count": null,
   "id": "727e2f3a-d7e9-4225-b15e-9fdc9d4707e4",
   "metadata": {},
   "outputs": [],
   "source": []
  },
  {
   "cell_type": "code",
   "execution_count": null,
   "id": "6a9d8079-8cd5-49fa-bd8f-0fcd3a04bf95",
   "metadata": {},
   "outputs": [],
   "source": []
  }
 ],
 "metadata": {
  "kernelspec": {
   "display_name": "Python 3",
   "language": "python",
   "name": "python3"
  },
  "language_info": {
   "codemirror_mode": {
    "name": "ipython",
    "version": 3
   },
   "file_extension": ".py",
   "mimetype": "text/x-python",
   "name": "python",
   "nbconvert_exporter": "python",
   "pygments_lexer": "ipython3",
   "version": "3.9.5"
  }
 },
 "nbformat": 4,
 "nbformat_minor": 5
}
